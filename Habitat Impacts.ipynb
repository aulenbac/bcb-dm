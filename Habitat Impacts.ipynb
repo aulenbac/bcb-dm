{
 "cells": [
  {
   "cell_type": "markdown",
   "metadata": {},
   "source": [
    "This is a still conceptual data asset in terms of something cohesive and robust for our group. We have bits and pieces but are still working through the visioning of what this looks like on par with our other more established data systems. However, we have been thinking about it for a while and starting to put things down in writing in our various strategic documents.\n",
    "\n",
    "What we're talking about is an integrated suite of data that help us characterize the things that are changing habitats and shifting biogeography over time. Those can be both factors that have a negative impact such as pollution sources and things that have a positive impact such as habitat treatments by land management agencies.\n",
    "\n",
    "The closest thing we have to a nationally synthesized methodology for this is the fish habitat impact assessment work that has gone on through the National Fish Habitat Partnership. We are in the process of assembling the datasets that have been produced through collaboration with Michigan State University as sustainable and buildable components along with the software algorithms used to build metrics and develop the Habitat Condition Index. We are working on answering questions about how these data assets can be maintained over time, how the software can be made operational, and how the same or new metrics can be used for other types of ecosystems.\n",
    "\n",
    "On the more potentially positive impact side, we are looking into things like the [USGS Land Treatment Digital Library](https://ltdl.wr.usgs.gov/) and how that information might be used in a systematic way to help characterize and better understand conservation measures being taken at landscape scale.\n",
    "\n",
    "This notebook provides a look at the data assets that are coming together within this overall theme and shows their current state of management and accessibility for use."
   ]
  },
  {
   "cell_type": "code",
   "execution_count": 1,
   "metadata": {
    "collapsed": true
   },
   "outputs": [],
   "source": [
    "import requests\n",
    "import pysb\n",
    "from IPython.display import display\n",
    "from IPython.display import HTML"
   ]
  },
  {
   "cell_type": "markdown",
   "metadata": {},
   "source": [
    "# Dam Removals\n",
    "This work is building on our partnership with Jeff Duda and the USGS Western Fisheries Research Center on the Dam Removal Information Portal. Dams fit into our portfolio as both part of building out the aquatic habitat characterization asset and into the area of impacts from the standpoint of both connectivity disruption in streams as well as actions (dam removal) designed, at least partially, to improve habitat.\n",
    "\n",
    "The current state of dam removal data management is in flux as we introduce new and better technologies. The following publication reference, summarized from its associated ScienceBase Item, lays out the overall data management process followed for the DRIP application."
   ]
  },
  {
   "cell_type": "code",
   "execution_count": 2,
   "metadata": {
    "collapsed": false
   },
   "outputs": [
    {
     "name": "stdout",
     "output_type": "stream",
     "text": [
      "Dam Removal Information Portal (DRIP)—A map-based resource linking scientific studies and associated geospatial information about dam removals\n"
     ]
    },
    {
     "data": {
      "text/plain": [
       "'<p>The removal of dams has recently increased over historical levels due to aging infrastructure, changing societal needs, and modern safety standards rendering some dams obsolete. Where possibilities for river restoration, or improved safety, exceed the benefits of retaining a dam, removal is more often being considered as a viable option. Yet, as this is a relatively new development in the history of river management, science is just beginning to guide our understanding of the physical and ecological implications of dam removal. Ultimately, the “lessons learned” from previous scientific studies on the outcomes dam removal could inform future scientific understanding of ecosystem outcomes, as well as aid in decision-making by stakeholders. We created a database visualization tool, the Dam Removal Information Portal (DRIP), to display map-based, interactive information about the scientific studies associated with dam removals. Serving both as a bibliographic source as well as a link to other existing databases like the National Hydrography Dataset, the derived National Dam Removal Science Database serves as the foundation for a Web-based application that synthesizes the existing scientific studies associated with dam removals. Thus, using the DRIP application, users can explore information about completed dam removal projects (for example, their location, height, and date removed), as well as discover sources and details of associated of scientific studies. As such, DRIP is intended to be a dynamic collection of scientific information related to dams that have been removed in the United States and elsewhere. This report describes the architecture and concepts of this “metaknowledge” database and the DRIP visualization tool.</p>'"
      ]
     },
     "metadata": {},
     "output_type": "display_data"
    },
    {
     "name": "stdout",
     "output_type": "stream",
     "text": [
      "https://pubs.usgs.gov/of/2016/1132/ofr20161132.pdf\n"
     ]
    }
   ],
   "source": [
    "dripOFR = requests.get(\"https://www.sciencebase.gov/catalog/item/57b6ce28e4b03fd6b7d919cf?format=json\").json()\n",
    "\n",
    "print (dripOFR[\"title\"])\n",
    "display (dripOFR[\"body\"])\n",
    "for link in dripOFR[\"webLinks\"]:\n",
    "    if link[\"type\"] == \"pdf\":\n",
    "        print (link[\"uri\"])\n",
    "        break"
   ]
  },
  {
   "cell_type": "code",
   "execution_count": null,
   "metadata": {
    "collapsed": true
   },
   "outputs": [],
   "source": []
  }
 ],
 "metadata": {
  "kernelspec": {
   "display_name": "Python 3",
   "language": "python",
   "name": "python3"
  },
  "language_info": {
   "codemirror_mode": {
    "name": "ipython",
    "version": 3
   },
   "file_extension": ".py",
   "mimetype": "text/x-python",
   "name": "python",
   "nbconvert_exporter": "python",
   "pygments_lexer": "ipython3",
   "version": "3.5.3"
  }
 },
 "nbformat": 4,
 "nbformat_minor": 0
}
