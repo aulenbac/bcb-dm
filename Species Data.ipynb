{
 "cells": [
  {
   "cell_type": "markdown",
   "metadata": {},
   "source": [
    "CSASL (and BCB and ESS, in particular) assembles, integrates, synthesizes, and produces data and information on individual species considered important for our primary mission of informing national conservation policy and resource management decisions. This work involves a number of individual activities that, together, form up one pillar of our overall biogeographic science practice and contribute to the formation of the National Biogeographic Map.\n",
    "\n",
    "This notebook provides an overview of species data development, management, use, and distribution capabilities. It indicates the current state of play on foundational data management and areas we are working to improve."
   ]
  },
  {
   "cell_type": "code",
   "execution_count": 1,
   "metadata": {
    "collapsed": true
   },
   "outputs": [],
   "source": [
    "import requests\n",
    "import pysb\n",
    "from IPython.display import display\n",
    "from IPython.display import HTML"
   ]
  },
  {
   "cell_type": "code",
   "execution_count": 2,
   "metadata": {
    "collapsed": false
   },
   "outputs": [
    {
     "name": "stdout",
     "output_type": "stream",
     "text": [
      "Username: sbristol@usgs.gov\n",
      "········\n"
     ]
    },
    {
     "data": {
      "text/plain": [
       "<pysb.SbSession.SbSession at 0x10acef0f0>"
      ]
     },
     "execution_count": 2,
     "metadata": {},
     "output_type": "execute_result"
    }
   ],
   "source": [
    "# In order to access private items in ScienceBase, we need to establish a connection using the pysb package. You will see summary output in this notebook from previous runs of the code when it is posted to GitHub, but we take care not to display particularly sensitive information from the in review items.\n",
    "sb = pysb.SbSession()\n",
    "username = input(\"Username: \")\n",
    "sb.loginc(str(username))"
   ]
  },
  {
   "cell_type": "code",
   "execution_count": 3,
   "metadata": {
    "collapsed": true
   },
   "outputs": [],
   "source": [
    "# Set up some parameters for this notebook\n",
    "_gapHabitatMapCollectionItem = \"527d0a83e4b0850ea0518326\"\n",
    "_gapSpeciesRangeCollectionItem = \"5951527de4b062508e3b1e79\""
   ]
  },
  {
   "cell_type": "markdown",
   "metadata": {},
   "source": [
    "### GAP Species Habitat Models/Maps\n",
    "We are in the process of releasing the full slate of these products, many of which have been online and used in various ways for some time. Work has been done to refine the models and back-end processing, and all of this will be the subject of an upcoming data review and release. The final model/map products themselves are being assembled in ScienceBase under a [dedicated collection](https://www.sciencebase.gov/catalog/item/527d0a83e4b0850ea0518326) (still private pending review)."
   ]
  },
  {
   "cell_type": "code",
   "execution_count": 5,
   "metadata": {
    "collapsed": false
   },
   "outputs": [
    {
     "data": {
      "text/html": [
       "<h3>U.S. Geological Survey - Gap Analysis Program Species Habitat Distribution Maps (In Review)</h3><h4>Abstract</h4><p>Gap Analysis Program (GAP) habitat maps are predictions of the spatial distribution of suitable environmental and land cover conditions within the United States for individual species. Mapped areas represent places where the environment is suitable for the species to occur (i.e. suitable to support one or more life history requirements for breeding, resting, or foraging), while areas not included in the map are those predicted to be unsuitable for the species. While the actual distributions of many species are likely to be habitat limited, suitable habitat will not always be occupied because of population dynamics and species interactions. Furthermore, these maps correspond to midscale characterizations of landscapes, but individual animals may deem areas to be unsuitable because of presence or absence of fine-scale features and characteristics that are not represented in our models (e.g. snags, vernal pools, shrubby undergrowth). These maps are intended to be used at a 1:100,000 or smaller map scale. These habitat maps are created by applying a deductive habitat model to remotely-sensed data layers within a species’ range. The deductive habitat models are built by compiling information on species’ habitat associations and entering it into a relational database). Information is compiled from the best available characterizations of species’ habitat, which included species accounts in books and databases, primary peer-reviewed literature. For all species, the compiled habitat information is used by a biologist to determine which of the ecological systems and land use classes represented in the National Gap Analysis Program’s Land Cover Map Ver. 1.0 that the species is associated with. For many species, information on other mapped factors that define the environment that is suitable is also entered into the database. These factors included elevation (i.e. minimum, maximum, proximity to water features, proximity to wetlands, level of human development, forest ecotone width, and forest edge; and each of these factors corresponded to a data layer that is available during the map production (hereafter, “ancillary data layers” see descriptions and links below). The maps are generated using a python script that queries the model parameters in the database; reclassifies the GAP Land Cover Ver 1.0 and ancillary data layers within the species’ range; and combines the reclassified layers to produce the final 30m resolution habitat map. Map output is, therefore, not only a reflection of the ecological systems that are selected in the habitat model, but also any other constraints in the model that are represented by the ancillary data layers. Modeling regions were used to stratify the conterminous U.S. into six regions (Northwest, Southwest, Great Plains, Upper Midwest, Southeast, and Northeast). These regions allowed for efficient processing of the species distribution models on smaller, ecologically homogenous extents. The 2008 start date for the models represents the shift in focus from state and regional project efforts to a national one. At that point all of the datasets needed to be standardized across the national extent and the species list derived based on the current understanding of the taxonomy. The end for the individual models represents when the species model was considered complete, and therefore reflects the current knowledge related to that species concept and the habitat requirements for the species. GAP uses the best information available to create these species habitat distribution maps; however GAP seeks to improve and update these data as new information becomes available. Versioning, Naming Conventions and Codes: This collection represents the first complete compilation of terrestrial vertebrate species models for the conterminous U.S. based on 2001 ground conditions. We plan to begin creating a new collection with 2011 land cover in 2017. Files for download follow a naming convention that will allow the user to track the date of the ground conditions and the version of the model. For example for the Cooper’s Hawk model the current model output is named bCOHAx_CONUS_2001v1_HabMap. That name provides the Gap species code for the model, the spatial extent, the ground condition year, and the model version. For each species, the species code represents a unique code for the species/subspecies being modeled. The taxonomic concept for the species model being presented is identified through the Integrated Taxonomic Information System – Taxonomic Serial Number. To provide a link to the NatureServe species information the NatureServe Element Code is provided for each species. Source Datasets Uses in Species Habitat Modeling: Hydrologic Units - Species ranges were used as model delimiters in predicted distribution models. Modeling regions - Used to stratify the conterminous U.S. into six ecologically homogeneous regions to facilitate efficient processing. Land Cover - Species were linked to individual map units to document habitat affinity in two ways. Primary map units are those land cover types critical for nesting, rearing young, and/or optimal foraging. Secondary or auxiliary map units are those land cover types generally not critical for breeding, but are typically used in conjunction with primary map units for foraging, roosting, and/or sub-optimal nesting locations. These map units are selected only when located within a specified distance from primary map units. Human Impact Avoidance - Buffers around urban areas and roads were used to identify areas that would be suitable for urban exploitative species and unsuitable for urban avoiding species. Forest &amp; Edge Habitats - The land cover map was used to derive datasets of forest interior and ecotones between forest and open habitats. Forest edge Forest/Open Woodland/Shrubland Elevation Derivatives - Slope and aspect were used to constrain some of the southwestern models where those variables are good indicators of microclimates (moist north facing slopes) and local topography (cliffs, flats). For species with a documented relationship to altitude the elevation data was used to constrain the mapped distribution. Aspect Slope Elevation Hydrology - : A number of water related data layers were used to refine the species distribution including: water type (i.e. flowing, open/standing), distance to and from water, and stream flow and underlying gradient. The source for this data was the USGS National Hydrography Dataset (NHD)(USGS 2007). Hydrographic features were divided into three types: flowing water, open/standing water, and wet vegetation. Canopy Cover - Some species are limited to open woodlands or dense forest, the National Land Cover’s Canopy Cover dataset was used to constrain the species models based on canopy density.</p><h4>Purpose</h4><p>The mission of the U.S. Geological Survey Gap Analysis Program (GAP) is to provide state, regional, and national biodiversity assessments of the conservation status of native vertebrate species and natural land cover types and to facilitate the application of this information to land management activities. Species distribution models are used to conduct a biodiversity assessment for species across the U.S. The goal of GAP is to keep common species common by identifying species and plant communities not adequately represented in existing conservation lands. Common species are those not currently threatened with extinction. By providing these data, land managers and policy makers can make better-informed decisions when identifying priority areas for conservation.</p><h4>Contacts</h4><div>Dr. Alexa McKerrow (Point of Contact)</div><div>U.S. Geological Survey - Gap Analysis Program (Originator)</div><div>Julie Prior-Magee (Metadata Contact)</div><div>U.S. Geological Survey (Publisher)</div><div>ScienceBase Data Release Team (Distributor)</div>"
      ],
      "text/plain": [
       "<IPython.core.display.HTML object>"
      ]
     },
     "execution_count": 5,
     "metadata": {},
     "output_type": "execute_result"
    }
   ],
   "source": [
    "# Get the collection item for the GAP Habitat Maps so we can show summary information\n",
    "gapHabitatMapCollection = sb.get_item(_gapHabitatMapCollectionItem,{'fields':'title,body,purpose,contacts'})\n",
    "\n",
    "# Display a few summary fields for the habitat map collection\n",
    "_shortReport = \"<h3>\"+gapHabitatMapCollection[\"title\"]+\"</h3>\"\n",
    "_shortReport = _shortReport+\"<h4>Abstract</h4><p>\"+gapHabitatMapCollection[\"body\"]+\"</p>\"\n",
    "_shortReport = _shortReport+\"<h4>Purpose</h4><p>\"+gapHabitatMapCollection[\"purpose\"]+\"</p>\"\n",
    "_shortReport = _shortReport+\"<h4>Contacts</h4>\"\n",
    "for contact in gapHabitatMapCollection[\"contacts\"]:\n",
    "    _shortReport = _shortReport+\"<div>\"\n",
    "    _shortReport = _shortReport+contact[\"name\"]+\" (\"+contact[\"type\"]+\")\"\n",
    "    _shortReport = _shortReport+\"</div>\"\n",
    "    \n",
    "HTML(_shortReport)"
   ]
  },
  {
   "cell_type": "code",
   "execution_count": 15,
   "metadata": {
    "collapsed": false,
    "scrolled": false
   },
   "outputs": [
    {
     "data": {
      "text/html": [
       "<div>Total number of GAP habitat maps in collection: <strong>1719</strong></div><h3>Cactus Deermouse (Peromyscus eremicus) Habitat Map</h3><h4>Abstract</h4><p>This dataset represents a species habitat distribution model for Cactus Deermouse.  These habitat maps are created by applying a <a href=\"https://www.sciencebase.gov/catalog/item/527d0a83e4b0850ea0518326\">deductive habitat model</a> to remotely-sensed data layers within a species' range.</p><h4>Identifiers</h4><div>GAP_SpeciesCode (mCCDEx)</div><div>DOI (doi:10.5066/F7W66J4F)</div><div>IPDS (IP-082267)</div><div>ITIS_TSN (180286)</div><div>EGTID (100994)</div><div>NatureServeElementCode (AMAFF03010)</div><h3>Coyote (Canis latrans) Habitat Map</h3><h4>Abstract</h4><p>This dataset represents a species habitat distribution model for Coyote.  These habitat maps are created by applying a <a href=\"https://www.sciencebase.gov/catalog/item/527d0a83e4b0850ea0518326\">deductive habitat model</a> to remotely-sensed data layers within a species' range.</p><h4>Identifiers</h4><div>GAP_SpeciesCode (mCOYOx)</div><div>DOI (doi:10.5066/F75H7DNG)</div><div>IPDS (IP-082267)</div><div>ITIS_TSN (180599)</div><div>EGTID (102680)</div><div>NatureServeElementCode (AMAJA01010)</div><h3>Wilson's Warbler (Wilsonia pusilla) Habitat Map</h3><h4>Abstract</h4><p>This dataset represents a species habitat distribution model for Wilson's Warbler.  These habitat maps are created by applying a <a href=\"https://www.sciencebase.gov/catalog/item/527d0a83e4b0850ea0518326\">deductive habitat model</a> to remotely-sensed data layers within a species' range.</p><h4>Identifiers</h4><div>GAP_SpeciesCode (bWIWAx)</div><div>DOI (doi:10.5066/F7WQ026F)</div><div>IPDS (IP-082267)</div><div>ITIS_TSN (178973)</div><div>EGTID (100788)</div><div>NatureServeElementCode (ABPBX16020)</div><h3>California Sealion (Zalophus californianus) Habitat Map</h3><h4>Abstract</h4><p>This dataset represents a species habitat distribution model for California Sealion.  These habitat maps are created by applying a <a href=\"https://www.sciencebase.gov/catalog/item/527d0a83e4b0850ea0518326\">deductive habitat model</a> to remotely-sensed data layers within a species' range.</p><h4>Identifiers</h4><div>GAP_SpeciesCode (mCASEx)</div><div>DOI (doi:10.5066/F7D798T7)</div><div>IPDS (IP-082267)</div><div>ITIS_TSN (180621)</div><div>EGTID (103040)</div><div>NatureServeElementCode (AMAJC04010)</div><h3>Wilson's Plover (Charadrius wilsonia) Habitat Map</h3><h4>Abstract</h4><p>This dataset represents a species habitat distribution model for Wilson's Plover.  These habitat maps are created by applying a <a href=\"https://www.sciencebase.gov/catalog/item/527d0a83e4b0850ea0518326\">deductive habitat model</a> to remotely-sensed data layers within a species' range.</p><h4>Identifiers</h4><div>GAP_SpeciesCode (bWIPLx)</div><div>DOI (doi:10.5066/F7P55KVP)</div><div>IPDS (IP-082267)</div><div>ITIS_TSN (176517)</div><div>EGTID (104251)</div><div>NatureServeElementCode (ABNNB03040)</div>"
      ],
      "text/plain": [
       "<IPython.core.display.HTML object>"
      ]
     },
     "execution_count": 15,
     "metadata": {},
     "output_type": "execute_result"
    }
   ],
   "source": [
    "# Report on the current number of GAP habitat map items in ScienceBase\n",
    "habitatMapIDs = sb.get_child_ids(_gapHabitatMapCollectionItem)\n",
    "_shortReport = \"<div>Total number of GAP habitat maps in collection: <strong>\"+str(len(habitatMapIDs))+\"</strong></div>\"\n",
    "\n",
    "# Get a short list of habitat map items with a search and show a summary\n",
    "for habitatMapID in habitatMapIDs[0:5]:\n",
    "    habitatMapItem = sb.get_item(habitatMapID)\n",
    "    # Display a few summary fields for the habitat map collection\n",
    "    _shortReport = _shortReport+\"<h3>\"+habitatMapItem[\"title\"]+\"</h3>\"\n",
    "    _shortReport = _shortReport+\"<h4>Abstract</h4><p>\"+habitatMapItem[\"body\"]+\"</p>\"\n",
    "    _shortReport = _shortReport+\"<h4>Identifiers</h4>\"\n",
    "    for identifier in habitatMapItem[\"identifiers\"]:\n",
    "        _shortReport = _shortReport+\"<div>\"\n",
    "        _shortReport = _shortReport+identifier[\"type\"]+\" (\"+identifier[\"key\"]+\")\"\n",
    "        _shortReport = _shortReport+\"</div>\"\n",
    "\n",
    "HTML(_shortReport)\n"
   ]
  },
  {
   "cell_type": "markdown",
   "metadata": {},
   "source": [
    "### GAP Species Ranges\n",
    "While essentially a part of the GAP species modeling process, the species ranges are their own product with uses beyond the habitat modeling process. Ranges are built against a version of the hydrographic network, slightly modified from the original to meet GAP modeling needs. Range data are also housed in a [dedicated ScienceBase collection](https://www.sciencebase.gov/catalog/item/5951527de4b062508e3b1e79) (still private pending review)."
   ]
  }
 ],
 "metadata": {
  "kernelspec": {
   "display_name": "Python 3",
   "language": "python",
   "name": "python3"
  },
  "language_info": {
   "codemirror_mode": {
    "name": "ipython",
    "version": 3
   },
   "file_extension": ".py",
   "mimetype": "text/x-python",
   "name": "python",
   "nbconvert_exporter": "python",
   "pygments_lexer": "ipython3",
   "version": "3.5.3"
  }
 },
 "nbformat": 4,
 "nbformat_minor": 0
}
