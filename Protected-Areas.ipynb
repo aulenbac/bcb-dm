{
 "cells": [
  {
   "cell_type": "markdown",
   "metadata": {
    "toc": "true"
   },
   "source": [
    " # Table of Contents\n",
    "<div class=\"toc\" style=\"margin-top: 1em;\"><ul class=\"toc-item\" id=\"toc-level0\"><li><span><a href=\"http://localhost:8888/notebooks/work/biskets/bcb-dm/Protected-Areas.ipynb#Introduction\" data-toc-modified-id=\"Introduction-1\"><span class=\"toc-item-num\">1&nbsp;&nbsp;</span>Introduction</a></span></li><li><span><a href=\"http://localhost:8888/notebooks/work/biskets/bcb-dm/Protected-Areas.ipynb#Setup-the-Working-Environment\" data-toc-modified-id=\"Setup-the-Working-Environment-2\"><span class=\"toc-item-num\">2&nbsp;&nbsp;</span>Setup the Working Environment</a></span></li><li><span><a href=\"http://localhost:8888/notebooks/work/biskets/bcb-dm/Protected-Areas.ipynb#Summary-Information\" data-toc-modified-id=\"Summary-Information-3\"><span class=\"toc-item-num\">3&nbsp;&nbsp;</span>Summary Information</a></span></li><li><span><a href=\"http://localhost:8888/notebooks/work/biskets/bcb-dm/Protected-Areas.ipynb#PAD-US-Archive-Management\" data-toc-modified-id=\"PAD-US-Archive-Management-4\"><span class=\"toc-item-num\">4&nbsp;&nbsp;</span>PAD-US Archive Management</a></span></li><li><span><a href=\"http://localhost:8888/notebooks/work/biskets/bcb-dm/Protected-Areas.ipynb#Data-sources\" data-toc-modified-id=\"Data-sources-5\"><span class=\"toc-item-num\">5&nbsp;&nbsp;</span>Data sources</a></span><ul class=\"toc-item\"><li><span><a href=\"http://localhost:8888/notebooks/work/biskets/bcb-dm/Protected-Areas.ipynb#PAD-US-ArcGIS-Services\" data-toc-modified-id=\"PAD-US-ArcGIS-Services-5.1\"><span class=\"toc-item-num\">5.1&nbsp;&nbsp;</span>PAD-US ArcGIS Services</a></span></li><li><span><a href=\"http://localhost:8888/notebooks/work/biskets/bcb-dm/Protected-Areas.ipynb#ScienceBase\" data-toc-modified-id=\"ScienceBase-5.2\"><span class=\"toc-item-num\">5.2&nbsp;&nbsp;</span>ScienceBase</a></span></li></ul></li></ul></div>"
   ]
  },
  {
   "cell_type": "markdown",
   "metadata": {},
   "source": [
    "# Introduction\n",
    "The Biogeographic Characterization Branch of CSASL partners with many organizations to produce the official inventory of protected open space in the United States, the Protected Areas Database of the United States (PAD-US). Working with federal, state, local, national and nongovernmental organizations, the PAD-US group assembles, checks and produces integrated information that describes public open space and other protected areas and delineates their boundaries. The resulting national inventory is an key resource for informing decisions about conservation, recreation or land use planning at different scales and across administrative boundaries.  \n",
    "\n",
    "This notebook provides an overview of that inventory's assets and foundational data management practices. It also provides an entry point for exploring the interplay of managed lands, national conservation policy and resource management decisions. A goal of this notebook is to provide easy access to BCB data assets associated with protected areas and managed lands in general, documenting programmatic ways to quickly inventory and explore those assets, and provide code examples for working with and analyzing these data."
   ]
  },
  {
   "cell_type": "markdown",
   "metadata": {},
   "source": [
    "# Setup the Working Environment\n",
    "This section of the notebook is a convenient place to setup the various python modules we plan to use. It is also a good place to setup (and document) ScienceBase and GC2 base URLs as well as the ScienceBase item for PAD-US v1.4 that we'll use and reuse throughout our notebook. "
   ]
  },
  {
   "cell_type": "code",
   "execution_count": null,
   "metadata": {},
   "outputs": [],
   "source": [
    "import requests\n",
    "import pysb\n",
    "import datetime\n",
    "from IPython.display import display\n",
    "from IPython.display import HTML"
   ]
  },
  {
   "cell_type": "code",
   "execution_count": null,
   "metadata": {},
   "outputs": [],
   "source": [
    "# To access private items in ScienceBase, we need to establish a connection using the pysb package. You will see summary output in this notebook from previous runs of the code when it is posted to GitHub, but we take care not to display particularly sensitive information from the in review items.\n",
    "\n",
    "sb = pysb.SbSession()\n",
    "username = input(\"Username: \")\n",
    "sb.loginc(str(username))"
   ]
  },
  {
   "cell_type": "code",
   "execution_count": null,
   "metadata": {
    "collapsed": true
   },
   "outputs": [],
   "source": [
    "# Set up some parameters for this notebook\n",
    "_gc2BaseURL = \"https://gc2.datadistillery.org/api/v1/sql/bcb\"\n",
    "_sbCatalogBaseURL = \"https://www.sciencebase.gov/catalog/item/\"\n",
    "\n",
    "# ScienceBase item for PAD-US (currently v1.4)\n",
    "_padusCollectionItem = \"56bba648e4b08d617f657960\""
   ]
  },
  {
   "cell_type": "markdown",
   "metadata": {},
   "source": [
    "# Summary Information\n",
    "Before we start digging deeply into our online Protected Areas data assets let's pull down the basic summary information we provide to our users; let's see what they see. Generally, we tend to store this type of information in ScienceBase and use it to populate our online tools such as the PAD-US Map Viewer (https://maps.usgs.gov/padus/) and the National Biogeographic Map (https://maps.usgs.gov/biogeography/). We'll use the PAD-US ScienceBase Collection item we setup above to customize a brief, summary report."
   ]
  },
  {
   "cell_type": "code",
   "execution_count": null,
   "metadata": {},
   "outputs": [],
   "source": [
    "# Get the PAD-US (v1.4) ScienceBase collection item for summary\n",
    "padusCollection = sb.get_item(_padusCollectionItem,{'fields':'title,body,purpose,contacts'})\n",
    "\n",
    "# Display a few summary fields for the collection in a lightweight report format\n",
    "_shortReport = \"<h3>\"+padusCollection[\"title\"]+\"</h4>\"\n",
    "_shortReport = _shortReport+\"<h4>Abstract</h4><p>\"+padusCollection[\"body\"]+\"</p>\"\n",
    "_shortReport = _shortReport+\"<h4>Purpose</h4><p>\"+padusCollection[\"purpose\"]+\"</p>\"\n",
    "_shortReport = _shortReport+\"<h4>Contacts</h4>\"\n",
    "for contact in padusCollection[\"contacts\"]:\n",
    "    _shortReport = _shortReport+\"<div>\"\n",
    "    _shortReport = _shortReport+contact[\"name\"]+\" (\"+contact[\"type\"]+\")\"\n",
    "    _shortReport = _shortReport+\"</div>\"\n",
    "    \n",
    "HTML(_shortReport)"
   ]
  },
  {
   "cell_type": "markdown",
   "metadata": {
    "collapsed": true
   },
   "source": [
    "# PAD-US Archive Management\n",
    "\n",
    "PAD-US has a number of older versions in play somewhere on our file systems. One of the things we need to do some work on is how we manage older versions of the data, what we do with older files, and how we portray the archive online. One of the areas we are working to clean up and refine a bit is the set of quite a number of files sitting in the AmazonS3 storage bucket (now referred to usgs-gap-data in the USGS CHS cloud). There are a bunch of what looks like PAD-US files in that bucket (see below). We need to work on:\n",
    "* What we need to keep\n",
    "* What we should do with the stuff we need to keep\n",
    "* How the stuff we keep should be better documented so that we and others know what's there and why we kept it\n",
    "The following code block looks at a local text file dump of the directory listing on the usgs-gap-data S3 bucket provided by Ivan Fetch."
   ]
  },
  {
   "cell_type": "code",
   "execution_count": null,
   "metadata": {},
   "outputs": [],
   "source": [
    "import mmap\n",
    "import re\n",
    "\n",
    "pattern = re.compile(rb'(\\.\\W+)?([^.]?PADUS[^.]*?\\.)')\n",
    "\n",
    "with open(\"usgs-gap-data-ls.txt\", \"r\") as gapfiles:\n",
    "    with mmap.mmap(gapfiles.fileno(), 0, access=mmap.ACCESS_READ) as m:\n",
    "        for match in pattern.findall(m):\n",
    "            print(match[1].replace(b'\\n', b' '))"
   ]
  },
  {
   "cell_type": "markdown",
   "metadata": {},
   "source": [
    "# Data sources\n",
    "One of the aspects of PAD-US data management we need to focus on for a number of reasons is the area of source data documentation. Right now, we don't have a lot of this visible, and it is mostly clues within the final database that we have to go by. We should work on cataloging the actual sources in a ScienceBase collection, similar to what we are doing for other products, where we can record details that are currently only available to backend data managers offline."
   ]
  },
  {
   "cell_type": "markdown",
   "metadata": {},
   "source": [
    "## PAD-US ArcGIS Services\n",
    "The following codeblock hits one of the PAD-US ArcGIS services with a query for distinct values of GIS_Src. The first 1000 values returned demonstrates how this information is insufficient for real utility to downstream users."
   ]
  },
  {
   "cell_type": "code",
   "execution_count": null,
   "metadata": {},
   "outputs": [],
   "source": [
    "padGISSources = requests.get(\"https://gis1.usgs.gov/arcgis/rest/services/PADUS1_4/Protected_Areas_by_Manager/MapServer/0/query?where=0%3D0&outFields=GIS_Src&returnGeometry=false&returnTrueCurves=false&returnIdsOnly=false&returnCountOnly=false&returnZ=false&returnM=false&returnDistinctValues=true&f=pjson\").json()\n",
    "\n",
    "for feature in padGISSources[\"features\"]:\n",
    "    print (feature[\"attributes\"][\"GIS_Src\"])"
   ]
  },
  {
   "cell_type": "markdown",
   "metadata": {},
   "source": [
    "\"Agg_Src\" is another attribute that contains potentially useful source information, and the following code block pulls some unique values from that one to look over. This also seems to be less than fully informative and not very standardized. We should look at replacing all of this with a URI pointer to ScienceBase Items that document source material in standardized ways, from which we can pull out individual attributes to include in the data in addition to providing human and software links back to more details."
   ]
  },
  {
   "cell_type": "code",
   "execution_count": null,
   "metadata": {},
   "outputs": [],
   "source": [
    "padAggregatorSources = requests.get(\"https://gis1.usgs.gov/arcgis/rest/services/PADUS1_4/Protected_Areas_by_Manager/MapServer/0/query?where=0%3D0&outFields=Agg_Src&returnGeometry=false&returnTrueCurves=false&returnIdsOnly=false&returnCountOnly=false&returnZ=false&returnM=false&returnDistinctValues=true&f=pjson\").json()\n",
    "\n",
    "for feature in padAggregatorSources[\"features\"]:\n",
    "    print (feature[\"attributes\"][\"Agg_Src\"])"
   ]
  },
  {
   "cell_type": "markdown",
   "metadata": {},
   "source": [
    "## ScienceBase\n",
    "We also store quite a few assets in ScienceBase. This codeblock uses the PAD-US ScienceBase Collection item from above to query ScienceBase and return a count of the number of child items associated with that item. It also gets a list of PAD-US items and produces a custom summary report for our use."
   ]
  },
  {
   "cell_type": "code",
   "execution_count": null,
   "metadata": {},
   "outputs": [],
   "source": [
    "# Report on the current number of PAD-US items in ScienceBase\n",
    "padusIDs = sb.get_child_ids(_padusCollectionItem)\n",
    "_shortReport = \"The number of PAD-US v1.4 items in the ScienceBase collection is currently <strong>\"+str(len(padusIDs))+\"</strong></div>\"\n",
    "\n",
    "# Get a list of PAD-US items with a search and produce a summary\n",
    "for padusID in padusIDs:\n",
    "    padusItem = sb.get_item(padusID)\n",
    "    # Display a few summary fields for the collection\n",
    "    pid = _sbCatalogBaseURL+padusID\n",
    "    _shortReport = _shortReport+\"<ul>\"+padusItem[\"title\"]+\" (\"+str(padusID)+\")\"+\"</ul>\"\n",
    "    _\n",
    "HTML(_shortReport)"
   ]
  },
  {
   "cell_type": "code",
   "execution_count": null,
   "metadata": {
    "collapsed": true
   },
   "outputs": [],
   "source": []
  }
 ],
 "metadata": {
  "anaconda-cloud": {},
  "kernelspec": {
   "display_name": "Python [default]",
   "language": "python",
   "name": "python3"
  },
  "language_info": {
   "codemirror_mode": {
    "name": "ipython",
    "version": 3
   },
   "file_extension": ".py",
   "mimetype": "text/x-python",
   "name": "python",
   "nbconvert_exporter": "python",
   "pygments_lexer": "ipython3",
   "version": "3.5.4"
  },
  "toc": {
   "nav_menu": {},
   "number_sections": true,
   "sideBar": true,
   "skip_h1_title": false,
   "toc_cell": true,
   "toc_position": {},
   "toc_section_display": "block",
   "toc_window_display": false
  }
 },
 "nbformat": 4,
 "nbformat_minor": 2
}
