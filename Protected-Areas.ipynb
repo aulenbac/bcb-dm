{
 "cells": [
  {
   "cell_type": "markdown",
   "metadata": {},
   "source": [
    "### Introduction\n",
    "The Biogeographic Characterization Branch of CSASL partners with many organizations to produce the official inventory of protected open space in the United States, the Protected Areas Database of the United States (PAD-US). Working with federal, state, local, national and nongovernmental organizations, the PAD-US group assembles, checks and produces integrated information that describes public open space and other protected areas and delineates their boundaries. The resulting national inventory is an key resource for informing decisions about conservation, recreation or land use planning at different scales and across administrative boundaries.  \n",
    "\n",
    "This notebook provides an overview of the inventory's assets and foundational data management practices. It also provides an entry point for exploring the interplay of managed lands, national conservation policy and resource management decisions. A goal of this notebook is to "
   ]
  },
  {
   "cell_type": "code",
   "execution_count": 1,
   "metadata": {
    "collapsed": true
   },
   "outputs": [],
   "source": [
    "import requests\n",
    "import pysb\n",
    "import datetime\n",
    "from IPython.display import display\n",
    "from IPython.display import HTML"
   ]
  },
  {
   "cell_type": "code",
   "execution_count": 2,
   "metadata": {},
   "outputs": [
    {
     "name": "stdout",
     "output_type": "stream",
     "text": [
      "Username: saulenbach@usgs.gov\n",
      "········\n"
     ]
    },
    {
     "data": {
      "text/plain": [
       "<pysb.SbSession.SbSession at 0x10d8ed9e8>"
      ]
     },
     "execution_count": 2,
     "metadata": {},
     "output_type": "execute_result"
    }
   ],
   "source": [
    "# To access private items in ScienceBase, we need to establish a connection using the pysb package. You will see summary output in this notebook from previous runs of the code when it is posted to GitHub, but we take care not to display particularly sensitive information from the in review items.\n",
    "\n",
    "sb = pysb.SbSession()\n",
    "username = input(\"Username: \")\n",
    "sb.loginc(str(username))"
   ]
  },
  {
   "cell_type": "code",
   "execution_count": 3,
   "metadata": {
    "collapsed": true
   },
   "outputs": [],
   "source": [
    "# Set up some parameters for this notebook\n",
    "_gc2BaseURL = \"https://gc2.datadistillery.org/api/v1/sql/bcb\"\n",
    "_sbCatalogBaseURL = \"https://www.sciencebase.gov/catalog/item/\"\n",
    "\n",
    "# ScienceBase item for PAD-US (currently v1.4)\n",
    "_padusCollectionItem = \"56bba648e4b08d617f657960\""
   ]
  },
  {
   "cell_type": "markdown",
   "metadata": {},
   "source": [
    "### Summary Information\n",
    "Retrieve select ScienceBase information to guide and support the analyses. "
   ]
  },
  {
   "cell_type": "code",
   "execution_count": 4,
   "metadata": {},
   "outputs": [
    {
     "data": {
      "text/html": [
       "<h3>Protected Areas Database of the United States (PAD-US)</h4><h4>Abstract</h4><p>The USGS Protected Areas Database of the United States (PAD-US) is the nation's inventory of protected areas, including public open space and voluntarily provided, private protected areas, identified as an A-16 National Geospatial Data Asset in the Cadastral Theme (http://www.fgdc.gov/ngda-reports/NGDA_Datasets.html). PAD-US is an ongoing project with several published versions of a spatial database of areas dedicated to the preservation of biological diversity, and other natural, recreational or cultural uses, managed for these purposes through legal or other effective means. The geodatabase maps and describes public open space and other protected areas. Most areas are public lands owned in fee; however, long-term easements, leases, and agreements or administrative designations documented in agency management plans may be included. The PAD-US database strives to be a complete “best available” inventory of protected areas (lands and waters) including data provided by managing agencies and organizations. The dataset is built in collaboration with several partners and data providers (http://gapanalysis.usgs.gov/padus/stewards/). See Supplemental Information Section of this metadata record for more information on partnerships and links to major partner organizations. As this dataset is a compilation of many data sets; data completeness, accuracy, and scale may vary. Federal and state data are generally complete, while local government and private protected area coverage is about 50% complete, and depends on data management capacity in the state. For completeness estimates by state: http://www.protectedlands.net/partners. As the federal and state data are reasonably complete; focus is shifting to completing the inventory of local gov and voluntarily provided, private protected areas. The PAD-US geodatabase contains over twenty-five attributes and four feature classes to support data management, queries, web mapping services and analyses: Marine Protected Areas (MPA), Fee, Easements and Combined. The data contained in the MPA Feature class are provided directly by the National Oceanic and Atmospheric Administration (NOAA) Marine Protected Areas Center (MPA, http://marineprotectedareas.noaa.gov ) tracking the National Marine Protected Areas System. The Easements feature class contains data provided directly from the National Conservation Easement Database (NCED, http://conservationeasement.us ) The MPA and Easement feature classes contain some attributes unique to the sole source databases tracking them (e.g. Easement Holder Name from NCED, Protection Level from NOAA MPA Inventory). The \"Combined\" feature class integrates all fee, easement and MPA features as the best available national inventory of protected areas in the standard PAD-US framework. In addition to geographic boundaries, PAD-US describes the protection mechanism category (e.g. fee, easement, designation, other), owner and managing agency, designation type, unit name, area, public access and state name in a suite of standardized fields. An informative set of references (i.e. Aggregator Source, GIS Source, GIS Source Date) and \"local\" or source data fields provide a transparent link between standardized PAD-US fields and information from authoritative data sources. The areas in PAD-US are also assigned conservation measures that assess management intent to permanently protect biological diversity: the nationally relevant \"GAP Status Code\" and global \"IUCN Category\" standard. A wealth of attributes facilitates a wide variety of data analyses and creates a context for data to be used at local, regional, state, national and international scales. More information about specific updates and changes to this PAD-US version can be found in the Data Quality Information section of this metadata record as well as on the PAD-US website, http://gapanalysis.usgs.gov/padus/data/history/.) Due to the completeness and complexity of these data, it is highly recommended to review the Supplemental Information Section of the metadata record as well as the Data Use Constraints, to better understand data partnerships as well as see tips and ideas of appropriate uses of the data and how to parse out the data that you are looking for. For more information regarding the PAD-US dataset please visit, http://gapanalysis.usgs.gov/padus/. To find more data resources as well as view example analysis performed using PAD-US data visit, http://gapanalysis.usgs.gov/padus/resources/. The PAD-US dataset and data standard are compiled and maintained by the USGS Gap Analysis Program, http://gapanalysis.usgs.gov/ . For more information about data standards and how the data are aggregated please review the “Standards and Methods Manual for PAD-US,” http://gapanalysis.usgs.gov/padus/data/standards/ .</p><h4>Purpose</h4><p>Purpose: The mission of the USGS Gap Analysis Program (GAP) is providing state, regional and national assessments of the conservation status of native vertebrate species and natural land cover types and facilitating the application of this information to land management activities. The PAD-US geodatabase is required to organize and assess the management status (i.e. apply GAP Status Codes) of elements of biodiversity protection. The goal of GAP is to 'keep common species common' by identifying species and plant communities not adequately represented in existing conservation lands. Common species are those not currently threatened with extinction. By identifying their habitats, gap analysis gives land managers and policy makers the information they need to make better-informed decisions when identifying priority areas for conservation. In cooperation with UNEP-World Conservation Monitoring Centre, GAP ensures PAD-US also supports global analyses to inform policy decisions by maintaining World Database for Protected Areas (WDPA) Site Codes and data for International Union for the Conservation of Nature (IUCN) categorized protected areas in the United States. GAP seeks to increase the efficiency and accuracy of PAD-US updates by leveraging resources in protected areas data aggregation and maintenance as described in \"A Map of the Future\", published following the PAD-US Design Project (July, 2009) available at: http://gapanalysis.usgs.gov/padus/vision/ with updates coming soon. While PAD-US was originally developed to support the GAP Mission stated above, the dataset is robust and has been expanded to support the conservation, recreation and public health communities as well. Additional applications become apparent over time. See the GAP Website http://gapanalysis.usgs.gov/padus/resources/ or the companion site http://protectedlands.net/uses for more information.</p><h4>Contacts</h4><div>Lisa Johnson (Point of Contact)</div><div>US Geological Survey (USGS) Gap Analysis Program (GAP) (Originator)</div><div>Mason Croft (Metadata Contact)</div><div>USGS Gap Analysis Program (GAP) (Publisher)</div><div>U.S. Geological Survey - ScienceBase (Distributor)</div>"
      ],
      "text/plain": [
       "<IPython.core.display.HTML object>"
      ]
     },
     "execution_count": 4,
     "metadata": {},
     "output_type": "execute_result"
    }
   ],
   "source": [
    "# Get the collection item for PAD-US v1.4 for the  summary\n",
    "padusCollection = sb.get_item(_padusCollectionItem,{'fields':'title,body,purpose,contacts'})\n",
    "\n",
    "# Display a few summary fields for the collection\n",
    "_shortReport = \"<h3>\"+padusCollection[\"title\"]+\"</h4>\"\n",
    "_shortReport = _shortReport+\"<h4>Abstract</h4><p>\"+padusCollection[\"body\"]+\"</p>\"\n",
    "_shortReport = _shortReport+\"<h4>Purpose</h4><p>\"+padusCollection[\"purpose\"]+\"</p>\"\n",
    "_shortReport = _shortReport+\"<h4>Contacts</h4>\"\n",
    "for contact in padusCollection[\"contacts\"]:\n",
    "    _shortReport = _shortReport+\"<div>\"\n",
    "    _shortReport = _shortReport+contact[\"name\"]+\" (\"+contact[\"type\"]+\")\"\n",
    "    _shortReport = _shortReport+\"</div>\"\n",
    "    \n",
    "HTML(_shortReport)"
   ]
  },
  {
   "cell_type": "code",
   "execution_count": 5,
   "metadata": {},
   "outputs": [
    {
     "data": {
      "text/html": [
       "The number of PAD-US v1.4 items in the ScienceBase collection is currently <strong>70</strong></div><ul>Protected Areas Database of the United States (PAD-US) 1.4 Oregon Export (575794fce4b04f417c23f46b)</ul><ul>Protected Areas Database of the United States (PAD-US) 1.4 Wyoming Export (5757a793e4b04f417c23f4d6)</ul><ul>Protected Areas Database of the United States (PAD-US) 1.4 Missouri Export (5757b63fe4b04f417c23f5c3)</ul><ul>Protected Areas Database of the United States (PAD-US) 1.4 Virginia Export (5757bbf7e4b04f417c2414cd)</ul><ul>Protected Areas Database of the United States (PAD-US) 1.4 Maryland Export (57577fece4b04f417c23f42e)</ul><ul>Protected Areas Database of the United States (PAD-US) 1.4 Florida Export (57577735e4b04f417c23f418)</ul><ul>Protected Areas Database of the United States (PAD-US) 1.4 Alabama Export (57579ed4e4b04f417c23f4a5)</ul><ul>Protected Areas Database of the United States (PAD-US) 1.4 Tennessee Export (5757a747e4b04f417c23f4d1)</ul><ul>Protected Areas Database of the United States (PAD-US) 1.4 Hawaii Export (5757a7f7e4b04f417c23f4db)</ul><ul>Protected Areas Database of the United States (PAD-US) 1.4 Maine Export (5757af87e4b04f417c23f4fa)</ul><ul>Protected Areas Database of the United States (PAD-US) 1.4 Arizona Export (5757bdc1e4b04f417c241fc0)</ul><ul>Protected Areas Database of the United States (PAD-US) Summary Statistics (5963ea3fe4b0d1f9f059d955)</ul><ul>Protected Areas Database of the United States (PAD-US) 1.4 Puerto Rico Export (5757b810e4b04f417c23f5f8)</ul><ul>Protected Areas Database of the United States (PAD-US) 1.4 West Virginia Export (575776bde4b04f417c23f413)</ul><ul>Protected Areas Database of the United States (PAD-US) 1.4 Nevada Export (5757b325e4b04f417c23f506)</ul><ul>Protected Areas Database of the United States (PAD-US) 1.4 Arkansas Export (5757b5ffe4b04f417c23f5b7)</ul><ul>Protected Areas Database of the United States (PAD-US) 1.4 District of Columbia Export (5757bd84e4b04f417c241fb6)</ul><ul>Protected Areas Database of the United States (PAD-US) 1.4 Iowa Export (5757bdbae4b04f417c241fbb)</ul><ul>Protected Areas Database of the United States (PAD-US) 1.4 Southwest Region Export (575847c5e4b04f417c25202a)</ul><ul>Protected Areas Database of the United States (PAD-US) 1.4 Southeast Region Export (57584afde4b04f417c25202f)</ul><ul>Protected Areas Database of the United States (PAD-US) 1.4 Northwest Region Export (57585659e4b04f417c252072)</ul><ul>Protected Areas Database of the United States (PAD-US) 1.4 Idaho Export (575785b3e4b04f417c23f439)</ul><ul>Protected Areas Database of the United States (PAD-US) 1.4 Minnesota Export (57577c0ee4b04f417c23f422)</ul><ul>Protected Areas Database of the United States (PAD-US) 1.4 Oklahoma Export (5757a707e4b04f417c23f4cc)</ul><ul>Protected Areas Database of the United States (PAD-US) 1.4 American Samoa Export (5757b58fe4b04f417c23f579)</ul><ul>Protected Areas Database of the United States (PAD-US) 1.4 Mississippi Export (5757b60be4b04f417c23f5bc)</ul><ul>Protected Areas Database of the United States (PAD-US) 1.4 South Dakota Export (5757b9b9e4b04f417c24022a)</ul><ul>Protected Areas Database of the United States (PAD-US) 1.4 Illinois Export (57577ba2e4b04f417c23f41d)</ul><ul>Protected Areas Database of the United States (PAD-US) 1.4 Washington Export (5757993fe4b04f417c23f496)</ul><ul>Protected Areas Database of the United States (PAD-US) 1.4 Alaska Export (5757b389e4b04f417c23f50b)</ul><ul>Protected Areas Database of the United States (PAD-US) 1.4 Kansas Export (5757b654e4b04f417c23f5ce)</ul><ul>Protected Areas Database of the United States (PAD-US) 1.4 Massachusetts Export (5757ba07e4b04f417c2404eb)</ul><ul>Protected Areas Database of the United States (PAD-US) 1.4 Louisiana Export (57579b4ce4b04f417c23f49b)</ul><ul>Protected Areas Database of the United States (PAD-US) 1.4 South Carolina Export (5757a528e4b04f417c23f4be)</ul><ul>Protected Areas Database of the United States (PAD-US) 1.4 United States Virgin Islands Export (5757aa56e4b04f417c23f4eb)</ul><ul>Protected Areas Database of the United States (PAD-US) 1.4 North Carolina Export (575788b0e4b04f417c23f443)</ul><ul>Protected Areas Database of the United States (PAD-US) 1.4 New Jersey Export (57579132e4b04f417c23f461)</ul><ul>Protected Areas Database of the United States (PAD-US) 1.4 Wisconsin Export (57579315e4b04f417c23f466)</ul><ul>Protected Areas Database of the United States (PAD-US) 1.4 Colorado Export (5757a494e4b04f417c23f4b9)</ul><ul>Protected Areas Database of the United States (PAD-US) 1.4 Kentucky Export (5757aa08e4b04f417c23f4e6)</ul><ul>Protected Areas Database of the United States (PAD-US) 1.4 Commonwealth of the Northern Mariana Islands Export (5757ac00e4b04f417c23f4f0)</ul><ul>Protected Areas Database of the United States (PAD-US) 1.4 Guam Export (5757adc0e4b04f417c23f4f5)</ul><ul>Protected Areas Database of the United States (PAD-US) 1.4 Vermont Export (57578aa4e4b04f417c23f448)</ul><ul>Protected Areas Database of the United States (PAD-US) 1.4 Connecticut Export (57578ae6e4b04f417c23f44d)</ul><ul>Protected Areas Database of the United States (PAD-US) 1.4 New York Export (5757b14ee4b04f417c23f4ff)</ul><ul>Protected Areas Database of the United States (PAD-US) 1.4 New Mexico Export (57578e4ce4b04f417c23f457)</ul><ul>Protected Areas Database of the United States (PAD-US) 1.4 Delaware Export (57578c9de4b04f417c23f452)</ul><ul>Protected Areas Database of the United States (PAD-US) 1.4 Georgia Export (57579d0be4b04f417c23f4a0)</ul><ul>Protected Areas Database of the United States (PAD-US) 1.4 Utah Export (5757a09be4b04f417c23f4aa)</ul><ul>Protected Areas Database of the United States (PAD-US) 1.4 Ohio Export (5757a101e4b04f417c23f4af)</ul><ul>Protected Areas Database of the United States (PAD-US) 1.4 Michigan Export (5757b5c9e4b04f417c23f5ae)</ul><ul>Protected Areas Database of the United States (PAD-US) 1.4 Southcentral Region Export (57585212e4b04f417c252050)</ul><ul>Protected Areas Database of the United States (PAD-US) 1.4 Midwest Region Export (57585ea0e4b04f417c2520e1)</ul><ul>Protected Areas Database of the United States (PAD-US) 1.4 Rhode Island Export (5757836de4b04f417c23f434)</ul><ul>Protected Areas Database of the United States (PAD-US) 1.4 California Export (57578eaae4b04f417c23f45c)</ul><ul>Protected Areas Database of the United States (PAD-US) 1.4 New Hampshire Export (57578664e4b04f417c23f43e)</ul><ul>Protected Areas Database of the United States (PAD-US) 1.4 Nebraska Export (57579730e4b04f417c23f470)</ul><ul>Protected Areas Database of the United States (PAD-US) 1.4 Pennsylvania Export (57579766e4b04f417c23f475)</ul><ul>Protected Areas Database of the United States (PAD-US) 1.4 Texas Export (5757a2bee4b04f417c23f4b4)</ul><ul>Protected Areas Database of the United States (PAD-US) 1.4 North Dakota Export (5757a9c3e4b04f417c23f4e0)</ul><ul>Protected Areas Database of the United States (PAD-US) 1.4 Montana Export (5757b647e4b04f417c23f5c9)</ul><ul>Protected Areas Database of the United States (PAD-US) 1.4 Indiana Export (5757b65ee4b04f417c23f5d3)</ul><ul>Protected Areas Database of the United States (PAD-US) 1.4 Northeast Region Export (57585c5ee4b04f417c25209c)</ul><ul>PADUS by Manager Type (56bba5b8e4b08d617f65795a)</ul><ul>PADUS by Access (56bba5dfe4b08d617f65795e)</ul><ul>PADUS by GAP Status (56bba50ce4b08d617f657956)</ul><ul>PADUS by Manager Name (56bba586e4b08d617f657958)</ul><ul>Protected Areas by Manager (5772ea00e4b07657d1a88960)</ul><ul>PAD-US 1.4 Maps (58ac962be4b0ce4410e7d80c)</ul><ul>Protected Areas Database of the United States (PAD-US) 1.4 - Landscape Conservation Cooperatives (LCCs) Export (575967f6e4b04f417c263daa)</ul>"
      ],
      "text/plain": [
       "<IPython.core.display.HTML object>"
      ]
     },
     "execution_count": 5,
     "metadata": {},
     "output_type": "execute_result"
    }
   ],
   "source": [
    "# Report on the current number of PAD-US items in ScienceBase\n",
    "padusIDs = sb.get_child_ids(_padusCollectionItem)\n",
    "_shortReport = \"The number of PAD-US v1.4 items in the ScienceBase collection is currently <strong>\"+str(len(padusIDs))+\"</strong></div>\"\n",
    "\n",
    "# Get a short list of PAD-US items with a search and show a summary\n",
    "for padusID in padusIDs:\n",
    "    padusItem = sb.get_item(padusID)\n",
    "    # Display a few summary fields for the collection\n",
    "    pid = _sbCatalogBaseURL+padusID\n",
    "    _shortReport = _shortReport+\"<ul>\"+padusItem[\"title\"]+\" (\"+str(padusID)+\")\"+\"</ul>\"\n",
    "    _\n",
    "HTML(_shortReport)"
   ]
  },
  {
   "cell_type": "code",
   "execution_count": null,
   "metadata": {
    "collapsed": true
   },
   "outputs": [],
   "source": []
  }
 ],
 "metadata": {
  "anaconda-cloud": {},
  "kernelspec": {
   "display_name": "Python [default]",
   "language": "python",
   "name": "python3"
  },
  "language_info": {
   "codemirror_mode": {
    "name": "ipython",
    "version": 3
   },
   "file_extension": ".py",
   "mimetype": "text/x-python",
   "name": "python",
   "nbconvert_exporter": "python",
   "pygments_lexer": "ipython3",
   "version": "3.5.3"
  }
 },
 "nbformat": 4,
 "nbformat_minor": 2
}
