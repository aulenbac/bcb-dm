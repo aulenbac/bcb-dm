{
 "cells": [
  {
   "cell_type": "markdown",
   "metadata": {
    "deletable": true,
    "editable": true
   },
   "source": [
    "# ModelAsDictionary\n",
    "The gapproduction.gapmodeling.ModelAsDictionary() function builds a copy of a species-regional model as a python dictionary.  These dictionaries can and have been saved as .pkl files that can then be read back into python.  Another function, gapproduction.gapmodeling.ModelCodes() returns a python list of model codes for a species code.  That function can be used to generate a list of models to loop on when creating model dictionaries.  Below is the ModelAsDictionary code for reference."
   ]
  },
  {
   "cell_type": "code",
   "execution_count": 26,
   "metadata": {
    "collapsed": false,
    "deletable": true,
    "editable": true
   },
   "outputs": [
    {
     "ename": "SyntaxError",
     "evalue": "invalid syntax (<ipython-input-26-b2f8beae79ec>, line 26)",
     "output_type": "error",
     "traceback": [
      "\u001b[0;36m  File \u001b[0;32m\"<ipython-input-26-b2f8beae79ec>\"\u001b[0;36m, line \u001b[0;32m26\u001b[0m\n\u001b[0;31m    var = WHRCursor.execute(\"\"\"SELECT anc.{0}\u001b[0m\n\u001b[0m                                             \n^\u001b[0m\n\u001b[0;31mSyntaxError\u001b[0m\u001b[0;31m:\u001b[0m invalid syntax\n"
     ]
    }
   ],
   "source": [
    "\"\"\"def ModelAsDictionary(model, muCodes=True):\n",
    "    '''\n",
    "    (string, boolean) -> dictionary\n",
    "    Returns a dictionary that includes a key for each of a regional model's variables.\n",
    "        NOTE: Only works for conus models.\n",
    "    Arguments:\n",
    "    model -- a model code (e.g., \"bcoyex-s6\")\n",
    "    muCodes -- specifies whether to return ecological system names or codes. Defaults\n",
    "        to true, which returns codes and takes a little longer to run.\n",
    "    Dictionary keys -- ['intIntoBuffFW', 'ScientificName', 'ysnHydroWV', 'intAuxBuff',\n",
    "                        'strForIntBuffer', 'ysnHandModel', 'intIntoBuffOW', 'Season',\n",
    "                        'intElevMax', 'PrimEcoSys', 'AuxEcoSys', 'SpeciesCode',\n",
    "                        'intIntoBuffWV', 'cbxContPatch', 'ysnUrbanExclude', 'intFromBuffFW',\n",
    "                        'intElevMin', 'ysnHydroOW', 'Region', 'CommonName',\n",
    "                        'ysnUrbanInclude', 'strUseForInt', 'intEdgeEcoWidth',\n",
    "                        'intFromBuffWV', 'strStreamVel', 'strSalinity', 'strEdgeType',\n",
    "                        'ysnHydroFW', 'intContPatchSize', 'strAvoid', 'intFromBuffOW']\n",
    "    Example:\n",
    "    modelDictionary = ModelAsDictionary(model=\"mSEWEx-y1\", muCodes=False)\n",
    "    '''\n",
    "    import dictionaries\n",
    "    ################### Create a function to retrieve the desired ancillary variable\n",
    "    ################################################################################\n",
    "    def __getVariable(model, variable):\n",
    "        WHRCursor, WHRConnection = gapdb.ConnectWHR()\n",
    "        var = WHRCursor.execute(\"\"\"SELECT anc.{0}\n",
    "                             FROM dbo.tblModelingAncillary as anc\n",
    "                             WHERE anc.strSpeciesModelCode = '{1}'\"\"\".format(variable, model)).fetchall()\n",
    "        var = var[0][0]\n",
    "        return var\n",
    "\n",
    "    ################################################  Add parameters to a dictionary\n",
    "    ################################################################################\n",
    "    # Initialize dictionary\n",
    "    modelDict = {}\n",
    "\n",
    "    # Regiona and season\n",
    "    region = dictionaries.regionsDict_Num_To_Name[int(model[8])]\n",
    "    modelDict[\"Region\"] = region\n",
    "\n",
    "    season = model[7]\n",
    "    modelDict[\"Season\"] = season\n",
    "                                                    \n",
    "    # Species names\n",
    "    SpeciesCode = model[:6]\n",
    "    modelDict[\"SpeciesCode\"] = SpeciesCode\n",
    "\n",
    "    Common = gapdb.NameCommon(SpeciesCode)\n",
    "    modelDict[\"CommonName\"] = Common\n",
    "\n",
    "    Scientific = gapdb.NameSci(SpeciesCode)\n",
    "    modelDict[\"ScientificName\"] = Scientific\n",
    "    \n",
    "    Sub = gapdb.NameSubspecies(SpeciesCode)\n",
    "    modelDict[\"SubspeciesName\"] = Sub\n",
    "    \n",
    "    # Land Cover Map Units\n",
    "    if muCodes == True:\n",
    "        primary, auxiliary = ModelEcoSystems(model)\n",
    "        modelDict[\"PrimEcoSys\"] = gapdb.MUNamesToCodes(primary)\n",
    "        modelDict[\"AuxEcoSys\"] = gapdb.MUNamesToCodes(auxiliary)\n",
    "    else:\n",
    "        primary, auxiliary = ModelEcoSystems(model)\n",
    "        modelDict[\"PrimEcoSys\"] = primary\n",
    "        modelDict[\"AuxEcoSys\"] = auxiliary \n",
    "\n",
    "    # Hand Model\n",
    "    ysnHandModel = __getVariable(model, \"ysnHandModel\")\n",
    "    modelDict[\"ysnHandModel\"] = ysnHandModel\n",
    "\n",
    "    # Hydrography variables\n",
    "    ysnHydroFW = __getVariable(model, \"ysnHydroFW\")\n",
    "    modelDict[\"ysnHydroFW\"] = ysnHydroFW\n",
    "\n",
    "    intFromBuffFW = __getVariable(model, \"intFromBuffFW\")\n",
    "    modelDict[\"intFromBuffFW\"] = intFromBuffFW\n",
    "\n",
    "    intIntoBuffFW = __getVariable(model, \"intIntoBuffFW\")\n",
    "    modelDict[\"intIntoBuffFW\"] = intIntoBuffFW\n",
    "\n",
    "    ysnHydroOW = __getVariable(model, \"ysnHydroOW\")\n",
    "    modelDict[\"ysnHydroOW\"] = ysnHydroOW\n",
    "\n",
    "    intFromBuffOW = __getVariable(model, \"intFromBuffOW\")\n",
    "    modelDict[\"intFromBuffOW\"] = intFromBuffOW\n",
    "\n",
    "    intIntoBuffOW = __getVariable(model, \"intIntoBuffOW\")\n",
    "    modelDict[\"intIntoBuffOW\"] = intIntoBuffOW\n",
    "\n",
    "    ysnHydroWV = __getVariable(model, \"ysnHydroWV\")\n",
    "    modelDict[\"ysnHydroWV\"] = ysnHydroWV\n",
    "\n",
    "    intFromBuffWV = __getVariable(model, \"intFromBuffWV\")\n",
    "    modelDict[\"intFromBuffWV\"] = intFromBuffWV\n",
    "\n",
    "    intIntoBuffWV = __getVariable(model, \"intIntoBuffWV\")\n",
    "    modelDict[\"intIntoBuffWV\"] = intIntoBuffWV\n",
    "\n",
    "    strSalinity = __getVariable(model, \"strSalinity\")\n",
    "    modelDict[\"strSalinity\"] = strSalinity\n",
    "\n",
    "    strStreamVel = __getVariable(model, \"strStreamVel\")\n",
    "    modelDict[\"strStreamVel\"] = strStreamVel\n",
    "\n",
    "    # Edge variables\n",
    "    strEdgeType = __getVariable(model, \"strEdgeType\")\n",
    "    modelDict[\"strEdgeType\"] = strEdgeType\n",
    "\n",
    "    intEdgeEcoWidth = __getVariable(model, \"intEdgeEcoWidth\")\n",
    "    modelDict[\"intEdgeEcoWidth\"] = intEdgeEcoWidth\n",
    "\n",
    "    # Forest interior variables\n",
    "    strUseForInt = __getVariable(model, \"strUseForInt\")\n",
    "    modelDict[\"strUseForInt\"] = strUseForInt\n",
    "\n",
    "    strForIntBuffer = __getVariable(model, \"strForIntBuffer\")\n",
    "    modelDict[\"strForIntBuffer\"] = strForIntBuffer\n",
    "\n",
    "    # Patch size\n",
    "    cbxContPatch = __getVariable(model, \"cbxContPatch\")\n",
    "    modelDict[\"cbxContPatch\"] = cbxContPatch\n",
    "\n",
    "    intContPatchSize = __getVariable(model, \"intContPatchSize\")\n",
    "    modelDict[\"intContPatchSize\"] = intContPatchSize\n",
    "\n",
    "    # Auxiliary LC Map Unit Buffer Distance\n",
    "    intAuxBuff = __getVariable(model, \"intAuxBuff\")\n",
    "    modelDict[\"intAuxBuff\"] = intAuxBuff\n",
    "\n",
    "    # Urban avoid layer\n",
    "    strAvoid = __getVariable(model, \"strAvoid\")\n",
    "    modelDict[\"strAvoid\"] = strAvoid\n",
    "\n",
    "    ysnUrbanExclude = __getVariable(model, \"ysnUrbanExclude\")\n",
    "    modelDict[\"ysnUrbanExclude\"] = ysnUrbanExclude\n",
    "\n",
    "    ysnUrbanInclude = __getVariable(model, \"ysnUrbanInclude\")\n",
    "    modelDict[\"ysnUrbanInclude\"] = ysnUrbanInclude\n",
    "\n",
    "    # Elevation variables\n",
    "    intElevMin = __getVariable(model, \"intElevMin\")\n",
    "    modelDict[\"intElevMin\"] = intElevMin\n",
    "\n",
    "    intElevMax = __getVariable(model, \"intElevMax\")\n",
    "    modelDict[\"intElevMax\"] = intElevMax\n",
    "\n",
    "return modelDict\"\"\""
   ]
  },
  {
   "cell_type": "markdown",
   "metadata": {
    "deletable": true,
    "editable": true
   },
   "source": [
    "Here's an example of how to read in some dictionaries (pkl files) that I created previously, and then save them as json files.  The result below is a pretty print-out of each model dictionary.  Note that ecological systems are listed as codes, but the ModelAsDictionary function offers an option to use system names instead."
   ]
  },
  {
   "cell_type": "code",
   "execution_count": 27,
   "metadata": {
    "collapsed": false,
    "deletable": true,
    "editable": true
   },
   "outputs": [
    {
     "name": "stdout",
     "output_type": "stream",
     "text": [
      "aACSSx-y3\n",
      "\tintIntoBuffFW : None\n",
      "\tScientificName : Plethodon chlorobryonis\n",
      "\tintElevMin : None\n",
      "\tintEdgeEcoWidth : None\n",
      "\tstrForIntBuffer : None\n",
      "\tysnHandModel : False\n",
      "\tintIntoBuffOW : None\n",
      "\tSeason : y\n",
      "\tintElevMax : 1500\n",
      "\tPrimEcoSys : [9801, 9845, 4133, 4553, 4403, 9843, 9842, 8504, 9806, 9841]\n",
      "\tAuxEcoSys : []\n",
      "\tSpeciesCode : aACSSx\n",
      "\tintIntoBuffWV : None\n",
      "\tcbxContPatch : False\n",
      "\tysnUrbanExclude : False\n",
      "\tintFromBuffFW : None\n",
      "\tCommonName : Atlantic Coast Slimy Salamander\n",
      "\tRegion : Northeast\n",
      "\tysnHydroOW : False\n",
      "\tysnUrbanInclude : False\n",
      "\tstrUseForInt : None\n",
      "\tintAuxBuff : None\n",
      "\tintFromBuffWV : None\n",
      "\tstrStreamVel : None\n",
      "\tstrEdgeType : None\n",
      "\tstrSalinity : None\n",
      "\tysnHydroFW : False\n",
      "\tintContPatchSize : None\n",
      "\tintFromBuffOW : None\n",
      "\tstrAvoid : None\n",
      "\tysnHydroWV : False\n",
      "aACSSx-y6\n",
      "\tintIntoBuffFW : None\n",
      "\tScientificName : Plethodon chlorobryonis\n",
      "\tintElevMin : None\n",
      "\tintEdgeEcoWidth : None\n",
      "\tstrForIntBuffer : None\n",
      "\tysnHandModel : False\n",
      "\tintIntoBuffOW : None\n",
      "\tSeason : y\n",
      "\tintElevMax : 1500\n",
      "\tPrimEcoSys : [9801, 9845, 4133, 4553, 4403, 9843, 9842, 8504, 9806, 9841]\n",
      "\tAuxEcoSys : []\n",
      "\tSpeciesCode : aACSSx\n",
      "\tintIntoBuffWV : None\n",
      "\tcbxContPatch : False\n",
      "\tysnUrbanExclude : False\n",
      "\tintFromBuffFW : None\n",
      "\tCommonName : Atlantic Coast Slimy Salamander\n",
      "\tRegion : Southeast\n",
      "\tysnHydroOW : False\n",
      "\tysnUrbanInclude : False\n",
      "\tstrUseForInt : None\n",
      "\tintAuxBuff : None\n",
      "\tintFromBuffWV : None\n",
      "\tstrStreamVel : None\n",
      "\tstrEdgeType : None\n",
      "\tstrSalinity : None\n",
      "\tysnHydroFW : False\n",
      "\tintContPatchSize : None\n",
      "\tintFromBuffOW : None\n",
      "\tstrAvoid : None\n",
      "\tysnHydroWV : False\n"
     ]
    }
   ],
   "source": [
    "import os\n",
    "import pickle\n",
    "import json\n",
    "\n",
    "# Directory with models as dictionary\n",
    "modelDir = \"/Users/boombox/Temp/ModelPKL\"\n",
    "\n",
    "# Directory to save to\n",
    "outDir = \"/Users/boombox/Temp/ModelJSON\"\n",
    "\n",
    "# List the pickle files\n",
    "models = os.listdir(modelDir)\n",
    "\n",
    "# Loop through models and print dictionary they stored\n",
    "for model in models:\n",
    "    print model[:-4]\n",
    "    modelDict = pickle.load(open(modelDir + \"/\" + model, \"rb\"))\n",
    "    for key in modelDict.keys():\n",
    "        print(\"\\t\" + key + \" : \" + str(modelDict[key]))\n",
    "    outfile = open(outDir + \"/\" + model[:-4] + \".json\", \"w\")\n",
    "    json.dump(modelDict, outfile)"
   ]
  },
  {
   "cell_type": "markdown",
   "metadata": {
    "deletable": true,
    "editable": true
   },
   "source": [
    "The season-region models can easily be packed into a species-level dictionary so that there's one object (or json file) per species. Here's an example of how that can be done."
   ]
  },
  {
   "cell_type": "code",
   "execution_count": 29,
   "metadata": {
    "collapsed": false,
    "deletable": true,
    "editable": true
   },
   "outputs": [
    {
     "name": "stdout",
     "output_type": "stream",
     "text": [
      "/Users/boombox/Temp/ModelJSON/aACSSx.json\n",
      "{'aACSSx-y6': {'intIntoBuffFW': None, 'ScientificName': u'Plethodon chlorobryonis', 'intElevMin': None, 'intEdgeEcoWidth': None, 'strForIntBuffer': None, 'ysnHandModel': False, 'intIntoBuffOW': None, 'Season': u'y', 'intElevMax': 1500, 'PrimEcoSys': [9801, 9845, 4133, 4553, 4403, 9843, 9842, 8504, 9806, 9841], 'AuxEcoSys': [], 'SpeciesCode': u'aACSSx', 'intIntoBuffWV': None, 'cbxContPatch': False, 'ysnUrbanExclude': False, 'intFromBuffFW': None, 'CommonName': u'Atlantic Coast Slimy Salamander', 'Region': 'Southeast', 'ysnHydroOW': False, 'ysnUrbanInclude': False, 'strUseForInt': None, 'intAuxBuff': None, 'intFromBuffWV': None, 'strStreamVel': None, 'strEdgeType': None, 'strSalinity': None, 'ysnHydroFW': False, 'intContPatchSize': None, 'intFromBuffOW': None, 'strAvoid': None, 'ysnHydroWV': False}, 'aACSSx-y3': {'intIntoBuffFW': None, 'ScientificName': u'Plethodon chlorobryonis', 'intElevMin': None, 'intEdgeEcoWidth': None, 'strForIntBuffer': None, 'ysnHandModel': False, 'intIntoBuffOW': None, 'Season': u'y', 'intElevMax': 1500, 'PrimEcoSys': [9801, 9845, 4133, 4553, 4403, 9843, 9842, 8504, 9806, 9841], 'AuxEcoSys': [], 'SpeciesCode': u'aACSSx', 'intIntoBuffWV': None, 'cbxContPatch': False, 'ysnUrbanExclude': False, 'intFromBuffFW': None, 'CommonName': u'Atlantic Coast Slimy Salamander', 'Region': 'Northeast', 'ysnHydroOW': False, 'ysnUrbanInclude': False, 'strUseForInt': None, 'intAuxBuff': None, 'intFromBuffWV': None, 'strStreamVel': None, 'strEdgeType': None, 'strSalinity': None, 'ysnHydroFW': False, 'intContPatchSize': None, 'intFromBuffOW': None, 'strAvoid': None, 'ysnHydroWV': False}}\n"
     ]
    }
   ],
   "source": [
    "speciesDict = {}\n",
    "for model in models:\n",
    "    modelDict = pickle.load(open(modelDir + \"/\" + model, \"rb\"))\n",
    "    speciesDict[model[:-4]] = modelDict\n",
    "filename = outDir + \"/\" + model[:-7] + \".json\"\n",
    "outfile = open(filename, \"w\")\n",
    "json.dump(speciesDict, outfile)\n",
    "print(filename)\n",
    "print(speciesDict)"
   ]
  },
  {
   "cell_type": "markdown",
   "metadata": {},
   "source": [
    "### --- FROM Sky ---\n",
    "When you go to run the process live to generate the individual species model report JSON files, you might do that by reading the ScienceBase collection for the Habitat Maps, looping the child items there, using the identifiers to specify which species to run, and then writing the files back to the items. You can do that with the pysb package. The code block below provides a start to this process."
   ]
  },
  {
   "cell_type": "code",
   "execution_count": 1,
   "metadata": {
    "collapsed": false
   },
   "outputs": [
    {
     "name": "stdout",
     "output_type": "stream",
     "text": [
      "Username: sbristol@usgs.gov\n",
      "········\n"
     ]
    },
    {
     "data": {
      "text/plain": [
       "<pysb.SbSession.SbSession at 0x1042f94a8>"
      ]
     },
     "execution_count": 1,
     "metadata": {},
     "output_type": "execute_result"
    }
   ],
   "source": [
    "import pysb\n",
    "# Set up your ScienceBase session for operating against. This takes your myUSGS user name and password (could be your usgs.gov credentials or another account depending on what you set up)\n",
    "sb = pysb.SbSession()\n",
    "username = input(\"Username: \")\n",
    "sb.loginc(str(username))"
   ]
  },
  {
   "cell_type": "code",
   "execution_count": 12,
   "metadata": {
    "collapsed": false
   },
   "outputs": [
    {
     "name": "stdout",
     "output_type": "stream",
     "text": [
      "58fa4d4fe4b0b7ea545250a1 bHESPx\n",
      "58fa6c6fe4b0b7ea54525928 mKJPGx\n",
      "58fa6fefe4b0b7ea545259b0 mMOVOn\n",
      "58fa707be4b0b7ea545259c5 mNADEx\n",
      "58fa7092e4b0b7ea545259c8 mNALSx\n"
     ]
    }
   ],
   "source": [
    "# Display provides a nice way of prettying up JSON\n",
    "from IPython.display import display\n",
    "\n",
    "# This is the top level ScienceBase Item ID for the habitat maps\n",
    "_gapHabitatMapCollectionItem = \"527d0a83e4b0850ea0518326\"\n",
    "\n",
    "# This gets all the child IDs from the habitat map collection; returns a list you can loop through\n",
    "habitatMapIDs = sb.get_child_ids(_gapHabitatMapCollectionItem)\n",
    "\n",
    "# Loop through the IDs; I limited to 5 total for demonstration\n",
    "for itemID in habitatMapIDs[0:5]:\n",
    "    # Get the current item; there's a lower intensity way to do this with search where we could just retrieve the item identifiers\n",
    "    habitatMapItem = sb.get_item(itemID)\n",
    "    # Filter out just the GAP species code from the other identifiers\n",
    "    gapCode = list(filter(lambda identifier: identifier[\"type\"] == \"GAP_SpeciesCode\", habitatMapItem[\"identifiers\"]))[0][\"key\"]\n",
    "    # Output the ScienceBase Item ID and corresponding GAP Species Code\n",
    "    print (itemID, gapCode)\n",
    "    # From here you could generate your JSON species model report documents and then upload them right back to the current ScienceBase Item we're dealing with using sb.upload_file_to_item()\n",
    "    "
   ]
  },
  {
   "cell_type": "markdown",
   "metadata": {
    "deletable": true,
    "editable": true
   },
   "source": [
    "   # When we have access to the WHR...\n",
    "    \n",
    "   With access to the WHR, a code to create species model dictionaries would be as simple as below.  To actually run, it will need some arguments added to the functions."
   ]
  },
  {
   "cell_type": "code",
   "execution_count": 30,
   "metadata": {
    "collapsed": false,
    "deletable": true,
    "editable": true
   },
   "outputs": [
    {
     "data": {
      "text/plain": [
       "'\\nimport gapproduction, json\\n\\n# Where to save\\noutDir = \"T:/SpeciesModelsJSON/\"\\n\\n# Get a complete list of species\\nspeciesList = gapproduction.gapdb.AllSpecies()\\n\\n# Loop through species\\nfor species in speciesList:\\n    # Make an empty dictionary\\n    speciesDict = {}\\n    \\n    # Establish a file name\\n    filename = outDir + species + \".json\"\\n    \\n    # Get python tuple (like a list) of regional model codes\\n    models = gapproduction.gapmodeling.ModelCodes()\\n    \\n    # Get the models as dictionaries, add to the species level dictionary\\n    for model in models:\\n        modelDict = gapproduction.gapmodeling.ModelAsDictionary()\\n        speciesDict[model] = modelDict\\n    \\n    # Save species model dictionary as json object\\n    outfile = open(filename, \"w\")\\n    json.dump(speciesDict, outfile)\\n'"
      ]
     },
     "execution_count": 30,
     "metadata": {},
     "output_type": "execute_result"
    }
   ],
   "source": [
    "\"\"\"\n",
    "import gapproduction, json\n",
    "\n",
    "# Where to save\n",
    "outDir = \"T:/SpeciesModelsJSON/\"\n",
    "\n",
    "# Get a complete list of species\n",
    "speciesList = gapproduction.gapdb.AllSpecies()\n",
    "\n",
    "# Loop through species\n",
    "for species in speciesList:\n",
    "    # Make an empty dictionary\n",
    "    speciesDict = {}\n",
    "    \n",
    "    # Establish a file name\n",
    "    filename = outDir + species + \".json\"\n",
    "    \n",
    "    # Get python tuple (like a list) of regional model codes\n",
    "    models = gapproduction.gapmodeling.ModelCodes()\n",
    "    \n",
    "    # Get the models as dictionaries, add to the species level dictionary\n",
    "    for model in models:\n",
    "        modelDict = gapproduction.gapmodeling.ModelAsDictionary()\n",
    "        speciesDict[model] = modelDict\n",
    "    \n",
    "    # Save species model dictionary as json object\n",
    "    outfile = open(filename, \"w\")\n",
    "    json.dump(speciesDict, outfile)\n",
    "\"\"\""
   ]
  },
  {
   "cell_type": "code",
   "execution_count": null,
   "metadata": {
    "collapsed": true,
    "deletable": true,
    "editable": true
   },
   "outputs": [],
   "source": []
  }
 ],
 "metadata": {
  "anaconda-cloud": {},
  "kernelspec": {
   "display_name": "Python 3",
   "language": "python",
   "name": "python3"
  },
  "language_info": {
   "codemirror_mode": {
    "name": "ipython",
    "version": 3
   },
   "file_extension": ".py",
   "mimetype": "text/x-python",
   "name": "python",
   "nbconvert_exporter": "python",
   "pygments_lexer": "ipython3",
   "version": "3.5.3"
  }
 },
 "nbformat": 4,
 "nbformat_minor": 1
}
