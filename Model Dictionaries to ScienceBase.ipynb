{
 "cells": [
  {
   "cell_type": "markdown",
   "metadata": {},
   "source": [
    "# GAP Habitat Models as Species-Level Dictionaries\n",
    "author: NMT\n",
    "\n",
    "A script for developing a workflow to get model dictionaries onto ScienceBase.  This is now to a point where it works.  I have another more succinct copy of the script that I can run locally when it's time to upload all.   \n",
    "\n",
    "Note: I created a sciencebase module in gapproduction with functions that connect to sciencebase (credentials saved in config file), return a list of species codes for species with sciencebase identifiers, return the ID, and return the doi for a passed species."
   ]
  },
  {
   "cell_type": "code",
   "execution_count": 1,
   "metadata": {
    "collapsed": true,
    "scrolled": true
   },
   "outputs": [],
   "source": [
    "import gapproduction as gp\n",
    "import pysb\n",
    "import json\n",
    "from IPython.display import display"
   ]
  },
  {
   "cell_type": "code",
   "execution_count": 2,
   "metadata": {
    "collapsed": true
   },
   "outputs": [],
   "source": [
    "# Where to save json files\n",
    "outDir = \"P:/Proj3/USGap/Vert/Model/2001/GAP_habitat_models/\""
   ]
  },
  {
   "cell_type": "code",
   "execution_count": 3,
   "metadata": {},
   "outputs": [
    {
     "name": "stdout",
     "output_type": "stream",
     "text": [
      "Username: \"nmtarr@ncsu.edu\"\n",
      "········\n",
      "Invalid password, try again\n",
      "········\n"
     ]
    },
    {
     "data": {
      "text/plain": [
       "<pysb.SbSession.SbSession instance at 0x00000000059EE108>"
      ]
     },
     "execution_count": 3,
     "metadata": {},
     "output_type": "execute_result"
    }
   ],
   "source": [
    "# Set up your ScienceBase session for operating against. \n",
    "sb = pysb.SbSession()\n",
    "username = input(\"Username: \")\n",
    "sb.loginc(str(username))"
   ]
  },
  {
   "cell_type": "markdown",
   "metadata": {},
   "source": [
    "Connect to ScienceBase and get a list of gap species codes from the list of child IDs for the habitat ma ID."
   ]
  },
  {
   "cell_type": "code",
   "execution_count": 4,
   "metadata": {
    "scrolled": true
   },
   "outputs": [
    {
     "name": "stdout",
     "output_type": "stream",
     "text": [
      "[u'mMOVOn']\n"
     ]
    }
   ],
   "source": [
    "# This is the top level ScienceBase Item ID for the habitat maps\n",
    "_gapHabitatMapCollectionItem = \"527d0a83e4b0850ea0518326\"\n",
    "\n",
    "# This gets all the child IDs from the habitat map collection; returns a list\n",
    "# you can loop through\n",
    "habitatMapIDs = sb.get_child_ids(_gapHabitatMapCollectionItem)\n",
    "\n",
    "# Get list of strUCs from habitatMapIDs to loop on\n",
    "spUCs = [sb.get_item(x)[\"identifiers\"][0][\"key\"] for x in habitatMapIDs[1:2]]\n",
    "print(spUCs)"
   ]
  },
  {
   "cell_type": "markdown",
   "metadata": {},
   "source": [
    "The above cell can now be done with gapproduction modules.  I think they'll end up being common tasks. - NMT"
   ]
  },
  {
   "cell_type": "markdown",
   "metadata": {},
   "source": [
    "# Draft dictionary - What needs to change?\n",
    "The next cell creates the dictionaries and saves them as json files.\n",
    "We'll need to make sure the format is good for everyone and fill in some blanks.  The keys are currently 'models', 'taxonomic', 'doi', 'input_layers', 'habitat_description', and 'references'\n",
    "\n",
    "The next cell will likely be put in a function within gapproduction so it can be run with one line of code in top level scripts or modeling workflow scripts."
   ]
  },
  {
   "cell_type": "code",
   "execution_count": 5,
   "metadata": {
    "scrolled": false
   },
   "outputs": [
    {
     "name": "stdout",
     "output_type": "stream",
     "text": [
      "mMOVOn\n",
      "1 of 1\n"
     ]
    },
    {
     "data": {
      "text/plain": [
       "{'doi': u'doi:10.5066/F7SJ1J08',\n",
       " 'habitat_description': u\"Southwest:\\r\\nIn Nevada, M. montanus is taken in tule swamps, bogs, around springs, and never more than a few feet from water (New Mexico Department of Game and Fish 2000).  The species inhabits meadows in montane forests, open pine-oak forests, wet sedge and grass meadows bordering marshes and open water in New Mexico (Thompson et al. 1996). In Arizona, it is found in wet to damp places such as wet, grassy areas, bogs, and marshes (Hoffmeister 1986). It occurs in Colorado in drier grasslands with forbs and sagebrush, though fewer in number (Fitzgerald et al. 1994).  It is found in grama-galleta steppe - juniper-pinyon woodland mosaic in New Mexico (Thompson et al. 1996). PNV (BLM)-wet grassy meadows of yellow pine, red fir, Engelmann's spruce, hemlock, and lodgepole forests (Thompson et al. 1996).  In Nevada, the species prefers to live in ladino clover or strawberry clover rather than meadow fescue, when given a choice (Hall 1995). In the summer it eats mainly the leaves of forbs, and includes grasses, sedges, rushes and fungi (Zeveloff 1988, Fitzgerald et al. 1994).  Grasses, bark, and twigs may become more important in winter in Colorado (Fitzgerald et al. 1994).  The species also eats the roots of sour dock in Nevada (Hall 1995).  This species is a mountainous species (Findley et al. 1975, Hoffmeister 1986, Fitzgerald et al. 1994). M. montanus occurs in the White Mountains in Arizona (Hoffmeister 1986). It occurs in the mountains of western Colorado (Fitzgerald et al. 1994). It is found in the northern half of Nevada (Hall 1995). The species occurs in the upper San Francisco River drainage and in the San Juan and Jemez mountains in New Mexico, but is not found east of the Rio Grande in the Sangre de Cristo Range because of competitive exclusion with M. pennsylvanicus (Frey 2004, Frey 2005). The species is distributed throughout Utah (Utah GAP 1997).\",\n",
       " 'input_layers': {'AuxEcoSys': 'https://doi.org/10.5066/F7959GF5',\n",
       "  'PrimEcoSys': 'https://doi.org/10.5066/F7959GF5',\n",
       "  'Region': 'https://doi.org/10.5066/F77H1HGT',\n",
       "  'hucs': 'https://doi.org/10.5066/F7DZ0754',\n",
       "  'intEdgeEcoWidth': {'F/O + Shrubland/Woodland': 'https://doi.org/10.5066/F7T43RZ7',\n",
       "   'Forest/Open Ecotone Only': 'https://doi.org/10.5066/F7XW4HPN'},\n",
       "  'intElevMax': 'https://doi.org/10.5066/F72N515B',\n",
       "  'intElevMin': 'https://doi.org/10.5066/F72N515B',\n",
       "  'intFromBuffFW': 'https://doi.org/10.5066/F7JM28J1',\n",
       "  'intFromBuffOW': 'https://doi.org/10.5066/F7JM28J1',\n",
       "  'intFromBuffWV': 'https://doi.org/10.5066/F7JM28J1',\n",
       "  'intIntoBuffOW': 'https://doi.org/10.5066/F7JM28J1',\n",
       "  'intIntoBuffWV': 'https://doi.org/10.5066/F7JM28J1',\n",
       "  'intPercentCanopy': 'https://doi.org/10.5066/F7DZ0754',\n",
       "  'intSlopeMax': 'https://doi.org/10.5066/F75D8QQF',\n",
       "  'intSlopeMin': 'https://doi.org/10.5066/F75D8QQF',\n",
       "  'strAvoid': 'https://doi.org/10.5066/F7PC318R',\n",
       "  'strEdgeType': {'F/O + Shrubland/Woodland': 'https://doi.org/10.5066/F7T43RZ7',\n",
       "   'Forest/Open Ecotone Only': 'https://doi.org/10.5066/F7XW4HPN'},\n",
       "  'strForIntBuffer': 'https://doi.org/10.5066/F7XW4HPN',\n",
       "  'strSalinity': 'https://doi.org/10.5066/F7JM28J1',\n",
       "  'strStreamVel': 'https://doi.org/10.5066/F7JM28J1',\n",
       "  'strUseForInt': 'https://doi.org/10.5066/F7XW4HPN',\n",
       "  'ysnHydroFW': 'https://doi.org/10.5066/F7JM28J1',\n",
       "  'ysnHydroOW': 'https://doi.org/10.5066/F7JM28J1',\n",
       "  'ysnHydroWV': 'https://doi.org/10.5066/F7JM28J1',\n",
       "  'ysnUrbanExclude': 'https://doi.org/10.5066/F7PC318R',\n",
       "  'ysnUrbanInclude': 'https://doi.org/10.5066/F7PC318R'},\n",
       " 'models': {u'mMOVOn-y4': {'AuxEcoSys': [],\n",
       "   'CommonName': u'Ash Meadows Montane Vole',\n",
       "   'Modeler': u'Matt Rubino',\n",
       "   'PrimEcoSys': [(9227, u'North American Arid West Emergent Marsh'),\n",
       "    (7305, u'Inter-Mountain Basins Semi-Desert Grassland'),\n",
       "    (5309, u'Inter-Mountain Basins Semi-Desert Shrub Steppe')],\n",
       "   'Region': 'Southwest',\n",
       "   'Reviewer': '',\n",
       "   'ScientificName': u'Microtus montanus nevadensis',\n",
       "   'Season': u'y',\n",
       "   'SpeciesCode': u'mMOVOn',\n",
       "   'SubspeciesName': u'nevadensis',\n",
       "   'cbxContPatch': False,\n",
       "   'intAuxBuff': None,\n",
       "   'intContPatchSize': None,\n",
       "   'intEdgeEcoWidth': None,\n",
       "   'intElevMax': 100,\n",
       "   'intElevMin': 105,\n",
       "   'intFromBuffFW': None,\n",
       "   'intFromBuffOW': None,\n",
       "   'intFromBuffWV': None,\n",
       "   'intIntoBuffFW': None,\n",
       "   'intIntoBuffOW': None,\n",
       "   'intIntoBuffWV': None,\n",
       "   'intPercentCanopy': None,\n",
       "   'intSlopeMax': None,\n",
       "   'intSlopeMin': None,\n",
       "   'memHandModelNotes': None,\n",
       "   'strAvoid': None,\n",
       "   'strEdgeType': None,\n",
       "   'strForIntBuffer': None,\n",
       "   'strSalinity': None,\n",
       "   'strStreamVel': None,\n",
       "   'strUseForInt': None,\n",
       "   'ysnHandModel': False,\n",
       "   'ysnHydroFW': False,\n",
       "   'ysnHydroOW': False,\n",
       "   'ysnHydroWV': False,\n",
       "   'ysnUrbanExclude': False,\n",
       "   'ysnUrbanInclude': False}},\n",
       " 'references': {u'B04FRE01USGP': 'Frey, J. K. 2004. Taxonomy and distribution of the mammals of New Mexico: an annotated checklist Occasional Papers, Museum, Texas Tech University 240:1-32',\n",
       "  u'B75FIN01SWGP': 'Findley, J. S., A. H. Harris, D. E. Wilson, and C. Jones. 1975. Mammals of New Mexico. University of New Mexico, Albuquerque, New Mexico. 360 pages.',\n",
       "  u'B86HOF01SWGP': 'Hoffmeister, D.F. 1986. Mammals of Arizona. University of Arizona Press. The University of Arizona Press and the Arizona Game and Fish Department, Tucson, Arizona. 602 pages.',\n",
       "  u'B88ZEV01NAUS': 'Zeveloff, S. I. 1988. Mammals of the intermountain west. University of Utah Press, Salt Lake City, Utah.',\n",
       "  u'B90ZEI02USGP': \"Zeiner, D. C., et al., editors. 1990. California's wildlife. Vol. II. Mammals. California Dept. Fish & Game, Sacramento. xi + 407 pp.\",\n",
       "  u'B94FIT01USGP': 'Fitzgerald, J.P., C. A. Meaney, and D. M. Armstrong. 1994. Mammals of Colorado. Denver Museum of Natural History and University Press of Colorado: Niwot, Colorado. 467 pp.',\n",
       "  u'B95HAL01USGP': 'Hall, E. R. 1995. Mammals of Nevada. University of Nevada Press: Las Vegas, Nevada. 710 pp.',\n",
       "  u'R96THO01USGP': 'Thompson, B. C., P. J. Crist, J. S. Prior-Magee, R. A. Deitner, D. L. Garber, and M. A. Hughes. 1996. Gap analysis of biological diversity conservation in New Mexico using geographic information systems Research Completion Report, New Mexico Cooperative Fish and Wildlife Research Unit, Las Cruces, NM.',\n",
       "  u'W02NEW01USGP': 'New Mexico Department of Game and Fish. 2002. Biota Information System of New Mexico. New Mexico Department of Game and Fish electronic database, BISON. Version January 2002, Santa Fe, New Mexico. Http://nmnhp.unm.edu/bisonm/bisonquery.php.'},\n",
       " 'taxonomic': {'ELCode': 'AMAFF11021',\n",
       "  'Global_SEQ_ID': '101726',\n",
       "  'ITIS_TSN': '180310',\n",
       "  'common_name': u'Ash Meadows Montane Vole',\n",
       "  'gap_code': 'mMOVOn',\n",
       "  'scientific_name': u'Microtus montanus nevadensis'}}"
      ]
     },
     "metadata": {},
     "output_type": "display_data"
    }
   ],
   "source": [
    "# Generate species model dictionaries and save as json files.\n",
    "counter = 0\n",
    "for species in spUCs:\n",
    "    counter += 1\n",
    "    print(species)\n",
    "    print(str(counter) + \" of \" + str(len(spUCs)))\n",
    "    \n",
    "    # Make an empty dictionary to collect model dictionaries\n",
    "    speciesDict = {\"input_layers\":gp.gapmodeling.layers_2001}\n",
    "    \n",
    "    # List taxanomic information\n",
    "    taxonomic = {\"common_name\":gp.gapdb.NameCommon(species), \n",
    "                 \"scientific_name\":gp.gapdb.NameSci(species),\n",
    "                 \"gap_code\": gp.gapdb.Crosswalk(species)[0],\n",
    "                 \"ELCode\": gp.gapdb.Crosswalk(species)[1],\n",
    "                 \"ITIS_TSN\": gp.gapdb.Crosswalk(species)[2],\n",
    "                 \"Global_SEQ_ID\": gp.gapdb.Crosswalk(species)[3]}\n",
    "    speciesDict[\"taxonomic\"] = taxonomic\n",
    "    \n",
    "    # Add placeholder for DOI\n",
    "    speciesDict[\"doi\"] = gp.sciencebase.GetHabMapDOI(species)\n",
    "    \n",
    "    # Add the species' habitat description\n",
    "    description = gp.gapmodeling.getHabitatDescription(species)\n",
    "    speciesDict[\"habitat_description\"] = description\n",
    "    \n",
    "    # Add species' references/citations\n",
    "    referencesDF = gp.gapmodeling.SpReferences(species)\n",
    "    references = dict(referencesDF[\"memCitation\"])\n",
    "    speciesDict[\"references\"] = references\n",
    "    \n",
    "    # Establish a file name for speciesDict\n",
    "    filename = outDir + species + \"_CONUS_HabModel_2001v1.json\"\n",
    "    \n",
    "    # Get python tuple (like a list) of regional model codes\n",
    "    modelCodes = [x for x in gp.gapmodeling.ModelCodes(species, \n",
    "                                                 publishedOnly=True, \n",
    "                                                 conusOnly=True, \n",
    "                                                 migratory=False) if int(x[-1:]) in [1,2,3,4,5,6]]\n",
    "    \n",
    "    # Get the models as dictionaries, add to a dictionary of models, then add that\n",
    "    # to the species level dictionary\n",
    "    models = {}\n",
    "    for model in modelCodes:\n",
    "        modelDict = gp.gapmodeling.ModelAsDictionary(model, ecolSystem = \"both\")\n",
    "        modelDict[\"intElevMax\"] = 100 # !!!!!!!!!!!!!!!!!  REMOVE\n",
    "        modelDict[\"intElevMin\"] = 105 # !!!!!!!!!!!!!!!!!  REMOVE\n",
    "        models[model] = modelDict\n",
    "    \n",
    "    speciesDict[\"models\"] = models\n",
    "    \n",
    "    # Save species model dictionary as json object\n",
    "    outfile = open(filename, \"w\")\n",
    "    json.dump(speciesDict, outfile)\n",
    "display(speciesDict)"
   ]
  },
  {
   "cell_type": "markdown",
   "metadata": {},
   "source": [
    "# Upload json dictionaries to ScienceBase habitat map items\n"
   ]
  },
  {
   "cell_type": "code",
   "execution_count": 6,
   "metadata": {
    "scrolled": true
   },
   "outputs": [
    {
     "data": {
      "text/plain": [
       "{u'body': u'This dataset represents a species habitat distribution model for Ring-necked Snake.  These habitat maps are created by applying a <a href=\"https://www.sciencebase.gov/catalog/item/527d0a83e4b0850ea0518326\">deductive habitat model</a> to remotely-sensed data layers within a species\\' range.',\n",
       " u'citation': u'U.S. Geological Survey - Gap Analysis Program, 2017, Ring-necked Snake (Diadophis punctatus) Habitat Map, U.S. Geological Survey data release, https://doi:10.5066/F7X065H2\\n         .',\n",
       " u'contacts': [{u'contactType': u'person',\n",
       "   u'email': u'amckerrow@usgs.gov',\n",
       "   u'name': u'Dr. Alexa McKerrow',\n",
       "   u'organization': {u'displayText': u'U.S. Geological Survey/Core Science Analytics, Synthesis, and Libraries'},\n",
       "   u'primaryLocation': {u'mailAddress': {u'city': u'Raleigh',\n",
       "     u'country': u'United States',\n",
       "     u'line1': u'North Carolina State University, Campus Box 7617',\n",
       "     u'state': u'NC',\n",
       "     u'zip': u'27695-7617'},\n",
       "    u'officePhone': u'571-218-5474',\n",
       "    u'streetAddress': {}},\n",
       "   u'type': u'Point of Contact'},\n",
       "  {u'name': u'U.S. Geological Survey - Gap Analysis Program',\n",
       "   u'organization': {},\n",
       "   u'primaryLocation': {u'mailAddress': {}, u'streetAddress': {}},\n",
       "   u'type': u'Originator'},\n",
       "  {u'contactType': u'person',\n",
       "   u'email': u'jpmagee@usgs.gov',\n",
       "   u'jobTitle': u'Technical Information Specialist',\n",
       "   u'name': u'Julie Prior-Magee',\n",
       "   u'organization': {u'displayText': u'U.S. Geological Survey - Core Science Analytics, Synthesis, and Libraries'},\n",
       "   u'primaryLocation': {u'mailAddress': {u'city': u'Lakewood',\n",
       "     u'country': u'United States',\n",
       "     u'line1': u'Denver Federal Center, West 6th Avenue & Kipling, Bldg. 810, MS 302',\n",
       "     u'state': u'CO',\n",
       "     u'zip': u'80225'},\n",
       "    u'officePhone': u'575-557-1566',\n",
       "    u'streetAddress': {}},\n",
       "   u'type': u'Metadata Contact'},\n",
       "  {u'name': u'U.S. Geological Survey',\n",
       "   u'organization': {},\n",
       "   u'primaryLocation': {u'mailAddress': {}, u'streetAddress': {}},\n",
       "   u'type': u'Publisher'},\n",
       "  {u'contactType': u'person',\n",
       "   u'email': u'sciencebase@usgs.gov',\n",
       "   u'name': u'ScienceBase Data Release Team',\n",
       "   u'organization': {u'displayText': u'U.S. Geological Survey - ScienceBase'},\n",
       "   u'primaryLocation': {u'mailAddress': {u'city': u'Denver',\n",
       "     u'country': u'United States',\n",
       "     u'line1': u'Denver Federal Center, Building 810, Mail Stop 302',\n",
       "     u'state': u'CO',\n",
       "     u'zip': u'80225'},\n",
       "    u'officePhone': u'888-275-8747',\n",
       "    u'streetAddress': {}},\n",
       "   u'type': u'Distributor'},\n",
       "  {u'contactType': u'person',\n",
       "   u'name': u'Ken Boykin',\n",
       "   u'organization': {},\n",
       "   u'primaryLocation': {u'mailAddress': {}, u'streetAddress': {}},\n",
       "   u'type': u'Modeler'}],\n",
       " u'dates': [{u'dateString': u'2017',\n",
       "   u'label': u'Publication Date',\n",
       "   u'type': u'Publication'},\n",
       "  {u'dateString': u'2008', u'label': u'Start Date', u'type': u'Start'},\n",
       "  {u'dateString': u'2014', u'label': u'End Date', u'type': u'End'}],\n",
       " u'distributionLinks': [{u'files': [{u'contentType': u'application/json',\n",
       "     u'name': u'rRNSNx_CONUS_HabModel_2001v1.json',\n",
       "     u'title': None}],\n",
       "   u'name': u'Ring_neckedSnak.zip',\n",
       "   u'rel': u'alternate',\n",
       "   u'title': u'Download Attached Files',\n",
       "   u'type': u'downloadLink',\n",
       "   u'typeLabel': u'Download Link',\n",
       "   u'uri': u'https://www.sciencebase.gov/catalog/file/get/58fe2369e4b0f87f0854ae89'}],\n",
       " u'files': [{u'checksum': None,\n",
       "   u'contentEncoding': None,\n",
       "   u'contentType': u'application/json',\n",
       "   u'dateUploaded': u'2017-10-13T15:34:35Z',\n",
       "   u'imageHeight': None,\n",
       "   u'imageWidth': None,\n",
       "   u'name': u'rRNSNx_CONUS_HabModel_2001v1.json',\n",
       "   u'originalMetadata': None,\n",
       "   u'pathOnDisk': u'__disk__26/b1/b1/26b1b19421c4fafb1cb1d704230109ba31393132',\n",
       "   u'processToken': None,\n",
       "   u'processed': None,\n",
       "   u's3Object': None,\n",
       "   u'size': 54942,\n",
       "   u'title': None,\n",
       "   u'uploadedBy': u'nmtarr@ncsu.edu',\n",
       "   u'url': u'https://www.sciencebase.gov/catalog/file/get/58fe2369e4b0f87f0854ae89?f=__disk__26%2Fb1%2Fb1%2F26b1b19421c4fafb1cb1d704230109ba31393132',\n",
       "   u'useForPreview': None}],\n",
       " u'hasChildren': False,\n",
       " u'id': u'58fe2369e4b0f87f0854ae89',\n",
       " u'identifiers': [{u'key': u'rRNSNx',\n",
       "   u'scheme': u'https://www.sciencebase.gov/vocab/category/item/identifier',\n",
       "   u'type': u'GAP_SpeciesCode'},\n",
       "  {u'key': u'doi:10.5066/F7X065H2',\n",
       "   u'scheme': u'https://www.sciencebase.gov/vocab/category/item/identifier',\n",
       "   u'type': u'DOI'},\n",
       "  {u'key': u'174158',\n",
       "   u'scheme': u'https://www.sciencebase.gov/vocab/category/item/identifier',\n",
       "   u'type': u'ITIS_TSN'},\n",
       "  {u'key': u'100405',\n",
       "   u'scheme': u'https://www.sciencebase.gov/vocab/category/item/identifier',\n",
       "   u'type': u'EGTID'},\n",
       "  {u'key': u'ARADB10010',\n",
       "   u'scheme': u'https://www.sciencebase.gov/vocab/category/item/identifier',\n",
       "   u'type': u'NatureServeElementCode'},\n",
       "  {u'key': u'ELEMENT_GLOBAL.2.100405',\n",
       "   u'scheme': u'http://help.natureserve.org/biotics/Content/sa_el_site_rtf/ELSITE_Global_Element_ID.htm',\n",
       "   u'type': u'NatureServe Global Element ID'},\n",
       "  {u'key': u'Diadophis punctatus',\n",
       "   u'scheme': u'https://www.sciencebase.gov/vocab/category/item/identifier',\n",
       "   u'type': u'scientificname'},\n",
       "  {u'key': u'Ring-necked Snake',\n",
       "   u'scheme': u'https://www.sciencebase.gov/vocab/category/item/identifier',\n",
       "   u'type': u'commonname'}],\n",
       " u'link': {u'rel': u'self',\n",
       "  u'url': u'https://www.sciencebase.gov/catalog/item/58fe2369e4b0f87f0854ae89'},\n",
       " u'locked': False,\n",
       " u'parentId': u'527d0a83e4b0850ea0518326',\n",
       " u'permissions': {u'read': {u'acl': [],\n",
       "   u'inherited': True,\n",
       "   u'inheritsFromId': u'527d0a83e4b0850ea0518326'},\n",
       "  u'write': {u'acl': [u'ROLE:ScienceBase_DataAdmin',\n",
       "    u'USER:amckerrow@usgs.gov',\n",
       "    u'USER:cbelyea@ncsu.edu',\n",
       "    u'USER:dwieferich@usgs.gov',\n",
       "    u'USER:jpmagee@usgs.gov',\n",
       "    u'USER:lhsu@usgs.gov',\n",
       "    u'USER:lschueck@usgs.gov',\n",
       "    u'USER:nmtarr@ncsu.edu',\n",
       "    u'USER:ntarr@usgs.gov',\n",
       "    u'USER:saulenbach@usgs.gov',\n",
       "    u'USER:sgwilliams@usgs.gov'],\n",
       "   u'inherited': True,\n",
       "   u'inheritsFromId': u'527d0a83e4b0850ea0518326'}},\n",
       " u'provenance': {u'annotation': u'Creation of item from csv file using pysb',\n",
       "  u'createdBy': u'dwieferich@usgs.gov',\n",
       "  u'dateCreated': u'2017-04-24T16:10:17Z',\n",
       "  u'lastUpdated': u'2017-10-13T15:34:35Z',\n",
       "  u'lastUpdatedBy': u'nmtarr@ncsu.edu'},\n",
       " u'purpose': u\"GAP distribution models represent the areas where species are predicted to occur based on habitat associations. The distribution models represent the spatial arrangement of environments suitable for occupation by a species. In other words, a species distribution is created using a deductive model to predict areas suitable for occupation within a species range. To represent these suitable environments for this species' habitat distribution model, we used the land cover and other ancillary datasets listed here in this metadata. Details on the habitat affinities and the parameters used to model are provided in the species report in the attached files section of this record.These models can be used to assess the habitat availability across the range of the species and in combination with other data to assess the conservation status or threats to the habitat for the species.\",\n",
       " u'relatedItems': {u'link': {u'rel': u'related',\n",
       "   u'url': u'https://www.sciencebase.gov/catalog/itemLinks?itemId=58fe2369e4b0f87f0854ae89'}},\n",
       " u'summary': u\"This dataset represents a species habitat distribution model for Ring-necked Snake. These habitat maps are created by applying a deductive habitat model to remotely-sensed data layers within a species' range.\",\n",
       " u'title': u'Ring-necked Snake (Diadophis punctatus) Habitat Map'}"
      ]
     },
     "execution_count": 6,
     "metadata": {},
     "output_type": "execute_result"
    }
   ],
   "source": [
    "# Tried the following and Knox Jones's Pocket Gopher.  They were successful.\n",
    "species = \"rRNSNx\" # Ring-necked Snake\n",
    "testID = '58fe2369e4b0f87f0854ae89'\n",
    "item = sb.get_item(testID)\n",
    "filename = outDir + species + \"_CONUS_HabModel_2001v1.json\"\n",
    "sb.upload_file_to_item(item, filename, scrape_file=True)"
   ]
  },
  {
   "cell_type": "code",
   "execution_count": null,
   "metadata": {
    "collapsed": true
   },
   "outputs": [],
   "source": []
  }
 ],
 "metadata": {
  "kernelspec": {
   "display_name": "Python 2",
   "language": "python",
   "name": "python2"
  },
  "language_info": {
   "codemirror_mode": {
    "name": "ipython",
    "version": 2
   },
   "file_extension": ".py",
   "mimetype": "text/x-python",
   "name": "python",
   "nbconvert_exporter": "python",
   "pygments_lexer": "ipython2",
   "version": "2.7.13"
  }
 },
 "nbformat": 4,
 "nbformat_minor": 2
}
