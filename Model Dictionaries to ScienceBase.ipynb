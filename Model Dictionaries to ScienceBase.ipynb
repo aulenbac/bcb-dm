{
 "cells": [
  {
   "cell_type": "markdown",
   "metadata": {},
   "source": [
    "# GAP Habitat Models as Species-Level Dictionaries\n",
    "A script for developing a workflow to get model dictionaries onto ScienceBase"
   ]
  },
  {
   "cell_type": "code",
   "execution_count": 2,
   "metadata": {},
   "outputs": [],
   "source": [
    "import gapproduction as gp\n",
    "import pysb"
   ]
  },
  {
   "cell_type": "code",
   "execution_count": 3,
   "metadata": {
    "collapsed": true
   },
   "outputs": [],
   "source": [
    "# Where to save json files\n",
    "outDir = \"P:/Proj3/USGap/Vert/Model/2001/GAP_habitat_models/\""
   ]
  },
  {
   "cell_type": "code",
   "execution_count": 4,
   "metadata": {
    "collapsed": true
   },
   "outputs": [],
   "source": [
    "# Get list of species to work on\n",
    "spList = [\"bAMREx\", \"mABBEx\", \"mammix\", \"magsqx\", \"blarbx\"]"
   ]
  },
  {
   "cell_type": "code",
   "execution_count": 13,
   "metadata": {},
   "outputs": [
    {
     "name": "stdout",
     "output_type": "stream",
     "text": [
      "Username: \"nmtarr@ncsu.edu\"\n",
      "········\n"
     ]
    },
    {
     "data": {
      "text/plain": [
       "<pysb.SbSession.SbSession instance at 0x0000000012671A08>"
      ]
     },
     "execution_count": 13,
     "metadata": {},
     "output_type": "execute_result"
    }
   ],
   "source": [
    "# Set up your ScienceBase session for operating against. This takes your myUSGS user name and password (could be your usgs.gov credentials or another account depending on what you set up)\n",
    "sb = pysb.SbSession()\n",
    "username = input(\"Username: \")\n",
    "sb.loginc(str(username))"
   ]
  },
  {
   "cell_type": "code",
   "execution_count": 15,
   "metadata": {},
   "outputs": [
    {
     "name": "stdout",
     "output_type": "stream",
     "text": [
      "[u'rRNSNx', u'bEASOx', u'bBEWRx', u'mSEWEc', u'rGPSLx']\n"
     ]
    }
   ],
   "source": [
    "# This is the top level ScienceBase Item ID for the habitat maps\n",
    "_gapHabitatMapCollectionItem = \"527d0a83e4b0850ea0518326\"\n",
    "\n",
    "# This gets all the child IDs from the habitat map collection; returns a list\n",
    "# you can loop through\n",
    "habitatMapIDs = sb.get_child_ids(_gapHabitatMapCollectionItem)\n",
    "\n",
    "# Get list of strUCs from habitatMapIDs to loop on\n",
    "spUCs = [sb.get_item(x)[\"identifiers\"][0][\"key\"] for x in habitatMapIDs[:5]]\n",
    "print(spUCs)"
   ]
  },
  {
   "cell_type": "code",
   "execution_count": null,
   "metadata": {},
   "outputs": [
    {
     "name": "stdout",
     "output_type": "stream",
     "text": [
      "rRNSNx\n",
      "1 of 5\n",
      "rRNSNx-y6\n",
      "rRNSNx-y4\n",
      "rRNSNx-y5\n"
     ]
    }
   ],
   "source": [
    "# From here you could generate your JSON species model report documents and then upload them right back to the current ScienceBase Item we're dealing with using sb.upload_file_to_item()\n",
    "counter=0\n",
    "for species in spUCs:\n",
    "    counter += 1\n",
    "    print(species)\n",
    "    print(str(counter) + \" of \" + str(len(spUCs)))\n",
    "    \n",
    "    # Make an empty dictionary to collect model dictionaries\n",
    "    speciesDict = {\"input_layers\":gp.gapmodeling.layers_2001}\n",
    "    \n",
    "    # List taxanomic information\n",
    "    taxonomic = {\"common_name\":gp.gapdb.NameCommon(species), \n",
    "                 \"scientific_name\":gp.gapdb.NameSci(species),\n",
    "                 \"gap_code\": gp.gapdb.Crosswalk(species)[0],\n",
    "                 \"ELCode\": gp.gapdb.Crosswalk(species)[1],\n",
    "                 \"ITIS_TSN\": gp.gapdb.Crosswalk(species)[2],\n",
    "                 \"Global_SEQ_ID\": gp.gapdb.Crosswalk(species)[3]}\n",
    "    speciesDict[\"taxonomic\"] = taxonomic\n",
    "    \n",
    "    # Add placeholder for DOI\n",
    "    speciesDict[\"doi\"] = \"???????\"\n",
    "    \n",
    "    # Add the species' habitat description\n",
    "    description = gp.gapmodeling.getHabitatDescription(species)\n",
    "    speciesDict[\"habitat_description\"] = description\n",
    "    \n",
    "    # Add species' references/citations\n",
    "    referencesDF = gp.gapmodeling.SpReferences(species)\n",
    "    references = dict(referencesDF[\"memCitation\"])\n",
    "    \n",
    "    # Establish a file name for speciesDict\n",
    "    filename = outDir + species + \"_CONUS_HabModel_2001v1.json\"\n",
    "    \n",
    "    # Get python tuple (like a list) of regional model codes\n",
    "    modelCodes = [x for x in gp.gapmodeling.ModelCodes(species, \n",
    "                                                 publishedOnly=True, \n",
    "                                                 conusOnly=True, \n",
    "                                                 migratory=False) if int(x[-1:]) in [1,2,3,4,5,6]]\n",
    "    \n",
    "    # Get the models as dictionaries, add to a dictionary of models, then add that\n",
    "    # to the species level dictionary\n",
    "    models = {}\n",
    "    for model in modelCodes:\n",
    "        modelDict = gp.gapmodeling.ModelAsDictionary(model, ecolSystem = \"both\")\n",
    "        modelDict[\"intElevMax\"] = 100 # !!!!!!!!!!!!!!!!!  REMOVE\n",
    "        modelDict[\"intElevMin\"] = 105 # !!!!!!!!!!!!!!!!!  REMOVE\n",
    "        models[model] = modelDict\n",
    "    \n",
    "    speciesDict[\"models\"] = models\n",
    "\n",
    "print(speciesDict)"
   ]
  }
 ],
 "metadata": {
  "kernelspec": {
   "display_name": "Python 2",
   "language": "python",
   "name": "python2"
  },
  "language_info": {
   "codemirror_mode": {
    "name": "ipython",
    "version": 2
   },
   "file_extension": ".py",
   "mimetype": "text/x-python",
   "name": "python",
   "nbconvert_exporter": "python",
   "pygments_lexer": "ipython2",
   "version": "2.7.13"
  }
 },
 "nbformat": 4,
 "nbformat_minor": 2
}
